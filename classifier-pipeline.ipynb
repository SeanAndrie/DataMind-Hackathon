{
 "cells": [
  {
   "cell_type": "markdown",
   "id": "4832411f",
   "metadata": {},
   "source": [
    "# Import Dependencies"
   ]
  },
  {
   "cell_type": "code",
   "execution_count": 53,
   "id": "b1b44bfd",
   "metadata": {},
   "outputs": [],
   "source": [
    "import os\n",
    "import cv2\n",
    "\n",
    "import optuna\n",
    "import insightface\n",
    "import numpy as np\n",
    "import pandas as pd\n",
    "import matplotlib.pyplot as plt\n",
    "import umap.umap_ as umap\n",
    "\n",
    "from lightgbm import LGBMClassifier\n",
    "from xgboost import XGBClassifier\n",
    "from catboost import CatBoostClassifier\n",
    "\n",
    "from tqdm import tqdm\n",
    "from insightface.app import FaceAnalysis\n",
    "from sklearn.neural_network import MLPClassifier\n",
    "from sklearn.linear_model import LogisticRegression, RidgeClassifier, SGDClassifier\n",
    "from sklearn.svm import LinearSVC\n",
    "from sklearn.ensemble import StackingClassifier, VotingClassifier\n",
    "from sklearn.preprocessing import LabelEncoder, StandardScaler, RobustScaler\n",
    "from sklearn.model_selection import train_test_split, StratifiedKFold, RepeatedStratifiedKFold\n",
    "from sklearn.metrics import accuracy_score, f1_score\n",
    "from sklearn.decomposition import PCA\n",
    "from sklearn.metrics.pairwise import cosine_similarity"
   ]
  },
  {
   "cell_type": "code",
   "execution_count": 2,
   "id": "0413607a",
   "metadata": {},
   "outputs": [],
   "source": [
    "CONFIG = {\n",
    "    \"APP_MODEL\": \"buffalo_l\",\n",
    "    \"APP_CONFIG\": {\n",
    "        \"ctx_id\": 0,\n",
    "        \"det_size\": (320, 320),\n",
    "        \"det_thresh\": 0.4,\n",
    "    },\n",
    "    \"RANDOM_STATE\": 42,\n",
    "    \"FEATURE_WEIGHTS\": {\n",
    "        \"embeddings\": 1.0,\n",
    "        \"norm_bbox\": 0.5,\n",
    "    },\n",
    "    \"ENHANCE_EMB\": True\n",
    "}"
   ]
  },
  {
   "cell_type": "code",
   "execution_count": 3,
   "id": "ac2fe37c",
   "metadata": {},
   "outputs": [],
   "source": [
    "main_dir = \"dataset\"\n",
    "\n",
    "train_dir = os.path.join(main_dir, \"train\")\n",
    "train_labels_dir = os.path.join(train_dir, \"labels.csv\")\n",
    "test_dir = os.path.join(main_dir, \"test\")\n",
    "ref_dir = os.path.join(main_dir, \"reference_faces\")"
   ]
  },
  {
   "cell_type": "code",
   "execution_count": 4,
   "id": "4d52c9ac",
   "metadata": {},
   "outputs": [
    {
     "data": {
      "text/html": [
       "<div>\n",
       "<style scoped>\n",
       "    .dataframe tbody tr th:only-of-type {\n",
       "        vertical-align: middle;\n",
       "    }\n",
       "\n",
       "    .dataframe tbody tr th {\n",
       "        vertical-align: top;\n",
       "    }\n",
       "\n",
       "    .dataframe thead th {\n",
       "        text-align: right;\n",
       "    }\n",
       "</style>\n",
       "<table border=\"1\" class=\"dataframe\">\n",
       "  <thead>\n",
       "    <tr style=\"text-align: right;\">\n",
       "      <th></th>\n",
       "      <th>filename</th>\n",
       "      <th>emp_id</th>\n",
       "    </tr>\n",
       "  </thead>\n",
       "  <tbody>\n",
       "    <tr>\n",
       "      <th>0</th>\n",
       "      <td>face_0568.jpg</td>\n",
       "      <td>emp016</td>\n",
       "    </tr>\n",
       "    <tr>\n",
       "      <th>1</th>\n",
       "      <td>face_0433.jpg</td>\n",
       "      <td>emp014</td>\n",
       "    </tr>\n",
       "    <tr>\n",
       "      <th>2</th>\n",
       "      <td>face_1751.jpg</td>\n",
       "      <td>emp004</td>\n",
       "    </tr>\n",
       "    <tr>\n",
       "      <th>3</th>\n",
       "      <td>face_0675.jpg</td>\n",
       "      <td>emp028</td>\n",
       "    </tr>\n",
       "    <tr>\n",
       "      <th>4</th>\n",
       "      <td>face_0112.jpg</td>\n",
       "      <td>emp001</td>\n",
       "    </tr>\n",
       "  </tbody>\n",
       "</table>\n",
       "</div>"
      ],
      "text/plain": [
       "        filename  emp_id\n",
       "0  face_0568.jpg  emp016\n",
       "1  face_0433.jpg  emp014\n",
       "2  face_1751.jpg  emp004\n",
       "3  face_0675.jpg  emp028\n",
       "4  face_0112.jpg  emp001"
      ]
     },
     "execution_count": 4,
     "metadata": {},
     "output_type": "execute_result"
    }
   ],
   "source": [
    "train_labels = pd.read_csv(train_labels_dir)\n",
    "train_labels.head()"
   ]
  },
  {
   "cell_type": "markdown",
   "id": "713248b8",
   "metadata": {},
   "source": [
    "# Create Reference Data"
   ]
  },
  {
   "cell_type": "code",
   "execution_count": 5,
   "id": "63525a40",
   "metadata": {},
   "outputs": [
    {
     "name": "stderr",
     "output_type": "stream",
     "text": [
      "/home/seang/miniconda3/envs/DataMind/lib/python3.10/site-packages/onnxruntime/capi/onnxruntime_inference_collection.py:121: UserWarning: Specified provider 'CUDAExecutionProvider' is not in available provider names.Available providers: 'AzureExecutionProvider, CPUExecutionProvider'\n",
      "  warnings.warn(\n"
     ]
    },
    {
     "name": "stdout",
     "output_type": "stream",
     "text": [
      "Applied providers: ['CPUExecutionProvider'], with options: {'CPUExecutionProvider': {}}\n",
      "find model: /home/seang/.insightface/models/buffalo_l/1k3d68.onnx landmark_3d_68 ['None', 3, 192, 192] 0.0 1.0\n",
      "Applied providers: ['CPUExecutionProvider'], with options: {'CPUExecutionProvider': {}}\n",
      "find model: /home/seang/.insightface/models/buffalo_l/2d106det.onnx landmark_2d_106 ['None', 3, 192, 192] 0.0 1.0\n",
      "Applied providers: ['CPUExecutionProvider'], with options: {'CPUExecutionProvider': {}}\n",
      "find model: /home/seang/.insightface/models/buffalo_l/det_10g.onnx detection [1, 3, '?', '?'] 127.5 128.0\n",
      "Applied providers: ['CPUExecutionProvider'], with options: {'CPUExecutionProvider': {}}\n",
      "find model: /home/seang/.insightface/models/buffalo_l/genderage.onnx genderage ['None', 3, 96, 96] 0.0 1.0\n",
      "Applied providers: ['CPUExecutionProvider'], with options: {'CPUExecutionProvider': {}}\n",
      "find model: /home/seang/.insightface/models/buffalo_l/w600k_r50.onnx recognition ['None', 3, 112, 112] 127.5 127.5\n",
      "set det-size: (320, 320)\n"
     ]
    }
   ],
   "source": [
    "app = FaceAnalysis(name=CONFIG[\"APP_MODEL\"])\n",
    "app.prepare(**CONFIG[\"APP_CONFIG\"])\n",
    "\n",
    "def robust_face_detection(img, app, attempts=3):\n",
    "    if img is None:\n",
    "        return None\n",
    "        \n",
    "    strategies = [\n",
    "        lambda x: x,  # Original\n",
    "        lambda x: cv2.convertScaleAbs(x, alpha=1.5, beta=40),  # Brighten\n",
    "        lambda x: cv2.equalizeHist(cv2.cvtColor(x, cv2.COLOR_BGR2GRAY))[:,:,np.newaxis].repeat(3,2),  # Hist equal\n",
    "        lambda x: cv2.GaussianBlur(x, (5,5), 0),  # De-noise\n",
    "        lambda x: cv2.medianBlur(x, 3),  # Alternative de-noise\n",
    "    ]\n",
    "    \n",
    "    for i in range(attempts):\n",
    "        try:\n",
    "            modified = strategies[i](img) if i < len(strategies) else img\n",
    "            faces = app.get(modified)\n",
    "            if len(faces) > 0:\n",
    "                return faces\n",
    "        except Exception as e:\n",
    "            print(f\"Detection attempt {i+1} failed: {str(e)}\")\n",
    "            continue\n",
    "    return None"
   ]
  },
  {
   "cell_type": "code",
   "execution_count": 6,
   "id": "b4dad030",
   "metadata": {},
   "outputs": [],
   "source": [
    "import numpy as np\n",
    "\n",
    "def enhance_embedding(\n",
    "    embedding, \n",
    "    face, \n",
    "    landmark_weight=0.12,\n",
    "    pose_weight=0.08,\n",
    "    kps_weight=0.05,\n",
    "    det_score_weight=0.04,\n",
    "):\n",
    "    required_attrs = ['bbox', 'kps', 'det_score', 'landmark_2d_106', 'pose']\n",
    "    missing = [attr for attr in required_attrs if not hasattr(face, attr)]\n",
    "    if missing:\n",
    "        raise ValueError(f\"Missing required face attributes: {missing}\")\n",
    "    \n",
    "    base_embed = embedding / (np.linalg.norm(embedding))\n",
    "\n",
    "    bbox_w = face.bbox[2] - face.bbox[0]\n",
    "    bbox_h = face.bbox[3] - face.bbox[1]\n",
    "    if bbox_w <= 0 or bbox_h <= 0:\n",
    "        raise ValueError(\"Invalid bounding box dimensions.\")\n",
    "    \n",
    "    landmarks_rel = ((face.landmark_2d_106 - face.bbox[:2]) / [bbox_w, bbox_h]).flatten()\n",
    "    kps_rel = ((face.kps - face.bbox[:2]) / [bbox_w, bbox_h]).flatten()\n",
    "\n",
    "    yaw, pitch, roll = face.pose\n",
    "    yaw_rad = np.deg2rad(yaw)\n",
    "    pitch_rad = np.deg2rad(pitch)\n",
    "    roll_rad = np.deg2rad(roll)\n",
    "    \n",
    "    norm_pose = np.array([\n",
    "        np.clip(yaw_rad / np.pi, -1, 1),\n",
    "        np.clip(pitch_rad / (np.pi / 2), -1, 1),\n",
    "        np.clip(roll_rad / np.pi, -1, 1)\n",
    "    ])\n",
    "    \n",
    "    enhanced = np.concatenate([\n",
    "        base_embed,\n",
    "        landmark_weight * landmarks_rel,\n",
    "        kps_weight * kps_rel,\n",
    "        pose_weight * norm_pose,\n",
    "        det_score_weight * np.array([face.det_score]),\n",
    "    ])\n",
    "    \n",
    "    return enhanced / (np.linalg.norm(enhanced))\n"
   ]
  },
  {
   "cell_type": "code",
   "execution_count": 7,
   "id": "de4e2f37",
   "metadata": {},
   "outputs": [
    {
     "name": "stderr",
     "output_type": "stream",
     "text": [
      "Processing Reference Identities:   0%|          | 0/34 [00:00<?, ?it/s]/home/seang/miniconda3/envs/DataMind/lib/python3.10/site-packages/insightface/utils/transform.py:68: FutureWarning: `rcond` parameter will change to the default of machine precision times ``max(M, N)`` where M and N are the input matrix dimensions.\n",
      "To use the future default and silence this warning we advise to pass `rcond=None`, to keep using the old, explicitly pass `rcond=-1`.\n",
      "  P = np.linalg.lstsq(X_homo, Y)[0].T # Affine matrix. 3 x 4\n",
      "Processing emp001 folder: 100%|██████████| 13/13 [00:03<00:00,  3.98it/s]\n",
      "Processing emp002 folder: 100%|██████████| 13/13 [00:03<00:00,  4.01it/s]7s/it]\n",
      "Processing emp003 folder: 100%|██████████| 11/11 [00:03<00:00,  3.10it/s]5s/it]\n",
      "Processing emp004 folder: 100%|██████████| 15/15 [00:04<00:00,  3.36it/s]9s/it]\n",
      "Processing emp005 folder: 100%|██████████| 14/14 [00:04<00:00,  3.41it/s]1s/it]\n",
      "Processing emp006 folder: 100%|██████████| 8/8 [00:02<00:00,  3.39it/s].92s/it]\n",
      "Processing emp007 folder: 100%|██████████| 14/14 [00:04<00:00,  3.12it/s]9s/it]\n",
      "Processing Reference Identities:  21%|██        | 7/34 [00:25<01:41,  3.75s/it]"
     ]
    },
    {
     "name": "stdout",
     "output_type": "stream",
     "text": [
      "Error: Could not detect any faces in dataset/reference_faces/emp008/emp008_013.jpg\n"
     ]
    },
    {
     "name": "stderr",
     "output_type": "stream",
     "text": [
      "Processing emp008 folder: 100%|██████████| 15/15 [00:05<00:00,  2.97it/s]\n",
      "Processing emp009 folder: 100%|██████████| 17/17 [00:05<00:00,  3.00it/s]6s/it]\n",
      "Processing emp010 folder: 100%|██████████| 15/15 [00:04<00:00,  3.24it/s]4s/it]\n",
      "Processing emp011 folder: 100%|██████████| 11/11 [00:03<00:00,  3.33it/s]64s/it]\n",
      "Processing emp012 folder: 100%|██████████| 14/14 [00:04<00:00,  3.18it/s]23s/it]\n",
      "Processing emp013 folder: 100%|██████████| 16/16 [00:04<00:00,  3.24it/s]28s/it]\n",
      "Processing Reference Identities:  38%|███▊      | 13/34 [00:53<01:34,  4.48s/it]"
     ]
    },
    {
     "name": "stdout",
     "output_type": "stream",
     "text": [
      "Error: Could not detect any faces in dataset/reference_faces/emp013/emp013_014.jpg\n"
     ]
    },
    {
     "name": "stderr",
     "output_type": "stream",
     "text": [
      "Processing emp014 folder: 100%|██████████| 15/15 [00:04<00:00,  3.01it/s]\n",
      "Processing emp015 folder: 100%|██████████| 15/15 [00:04<00:00,  3.25it/s]63s/it]\n",
      "Processing emp016 folder: 100%|██████████| 15/15 [00:04<00:00,  3.22it/s]63s/it]\n",
      "Processing emp017 folder: 100%|██████████| 14/14 [00:04<00:00,  2.96it/s]64s/it]\n",
      "Processing emp018 folder: 100%|██████████| 20/20 [00:06<00:00,  3.21it/s]67s/it]\n",
      "Processing emp019 folder: 100%|██████████| 15/15 [00:04<00:00,  3.02it/s]14s/it]\n",
      "Processing emp020 folder: 100%|██████████| 15/15 [00:05<00:00,  2.95it/s]09s/it]\n",
      "Processing emp021 folder: 100%|██████████| 15/15 [00:05<00:00,  2.65it/s]09s/it]\n",
      "Processing emp022 folder: 100%|██████████| 15/15 [00:05<00:00,  2.71it/s]26s/it]\n",
      "Processing emp023 folder: 100%|██████████| 15/15 [00:05<00:00,  2.61it/s]34s/it]\n",
      "Processing emp024 folder: 100%|██████████| 11/11 [00:03<00:00,  2.92it/s]46s/it]\n",
      "Processing emp025 folder: 100%|██████████| 14/14 [00:04<00:00,  3.07it/s]96s/it]\n",
      "Processing emp026 folder: 100%|██████████| 17/17 [00:07<00:00,  2.35it/s]84s/it]\n",
      "Processing emp027 folder: 100%|██████████| 15/15 [00:05<00:00,  2.93it/s]56s/it]\n",
      "Processing emp028 folder: 100%|██████████| 15/15 [00:05<00:00,  2.81it/s]43s/it]\n",
      "Processing emp029 folder: 100%|██████████| 13/13 [00:04<00:00,  3.08it/s]40s/it]\n",
      "Processing Reference Identities:  85%|████████▌ | 29/34 [02:15<00:25,  5.05s/it]"
     ]
    },
    {
     "name": "stdout",
     "output_type": "stream",
     "text": [
      "Error: Could not detect any faces in dataset/reference_faces/emp030/emp030_011.jpg\n"
     ]
    },
    {
     "name": "stderr",
     "output_type": "stream",
     "text": []
    },
    {
     "name": "stdout",
     "output_type": "stream",
     "text": [
      "Error: Could not detect any faces in dataset/reference_faces/emp030/emp030_003.jpg\n"
     ]
    },
    {
     "name": "stderr",
     "output_type": "stream",
     "text": [
      "Processing emp030 folder: 100%|██████████| 15/15 [00:04<00:00,  3.51it/s]\n",
      "Processing emp031 folder: 100%|██████████| 15/15 [00:04<00:00,  3.20it/s]82s/it]\n",
      "Processing emp032 folder: 100%|██████████| 15/15 [00:04<00:00,  3.01it/s]78s/it]\n",
      "Processing emp034 folder: 100%|██████████| 11/11 [00:03<00:00,  3.34it/s]84s/it]\n",
      "Processing emp035 folder: 100%|██████████| 15/15 [00:05<00:00,  2.92it/s]38s/it]\n",
      "Processing Reference Identities: 100%|██████████| 34/34 [02:38<00:00,  4.66s/it]\n"
     ]
    },
    {
     "data": {
      "text/plain": [
       "((448, 512), (448, 738))"
      ]
     },
     "execution_count": 7,
     "metadata": {},
     "output_type": "execute_result"
    }
   ],
   "source": [
    "def create_reference_data(ref_dir, ref_labels, app):\n",
    "    ref_data = {\n",
    "        \"embedding\": [],\n",
    "        \"enhanced_embedding\": [],\n",
    "        \"emp_id\": [],\n",
    "        \"norm_bbox\": [],\n",
    "        \"is_ref\": []\n",
    "    }\n",
    "    \n",
    "    for emp_id in tqdm(ref_labels, desc=\"Processing Reference Identities\"):\n",
    "        img_path = os.path.join(ref_dir, emp_id)\n",
    "        if os.path.isdir(img_path) is False:\n",
    "            print(f\"Error processing {emp_id} folder: Is not directory\")\n",
    "            continue\n",
    "        for filename in tqdm(os.listdir(img_path), desc=f\"Processing {emp_id} folder\"):\n",
    "            filepath = os.path.join(img_path, filename)\n",
    "            if filepath.endswith(\".mp4\"):\n",
    "                continue\n",
    "            img = cv2.imread(filepath)\n",
    "            faces = robust_face_detection(img, app, attempts=4)\n",
    "            if faces:\n",
    "                face = faces[0]\n",
    "                img_h, img_w = img.shape[:2]\n",
    "                bbox = face.bbox\n",
    "                norm_bbox = [\n",
    "                    bbox[0]/img_w,\n",
    "                    bbox[1]/img_h,\n",
    "                    bbox[2]/img_w,\n",
    "                    bbox[3]/img_h\n",
    "                ]\n",
    "                ref_data['embedding'].append(\n",
    "                    (face.embedding / np.linalg.norm(face.embedding))\n",
    "                )\n",
    "                ref_data['enhanced_embedding'].append(\n",
    "                    enhance_embedding(face.embedding, face)\n",
    "                )\n",
    "                ref_data['emp_id'].append(emp_id)\n",
    "                ref_data['norm_bbox'].append(norm_bbox)\n",
    "            else:\n",
    "                print(f\"Error: Could not detect any faces in {filepath}\")\n",
    "            ref_data[\"is_ref\"].append(1)\n",
    "    \n",
    "    for key in ref_data:\n",
    "        if key == 'emp_id':\n",
    "            continue\n",
    "        ref_data[key] = np.array(ref_data[key])\n",
    "\n",
    "    return ref_data\n",
    "\n",
    "ref_data = create_reference_data(ref_dir, sorted(os.listdir(ref_dir)), app)\n",
    "ref_data[\"embedding\"].shape, ref_data[\"enhanced_embedding\"].shape"
   ]
  },
  {
   "cell_type": "markdown",
   "id": "8f011a6c",
   "metadata": {},
   "source": [
    "# Create Train Data"
   ]
  },
  {
   "cell_type": "code",
   "execution_count": 8,
   "id": "ed7192fe",
   "metadata": {},
   "outputs": [
    {
     "name": "stderr",
     "output_type": "stream",
     "text": [
      "Processing Train Identities: 100%|██████████| 1179/1179 [07:02<00:00,  2.79it/s]\n"
     ]
    }
   ],
   "source": [
    "def create_train_data(train_dir, labels_df, app, normalize=True):\n",
    "    train_data = {\n",
    "        \"embedding\": [],\n",
    "        \"enhanced_embedding\": [],\n",
    "        \"emp_id\": [],\n",
    "        \"norm_bbox\": [],\n",
    "        \"is_ref\": [],\n",
    "    }\n",
    "    failed_samples = []\n",
    "\n",
    "    img_path = os.path.join(train_dir, \"images\")\n",
    "    for idx, row in tqdm(labels_df.iterrows(), desc=\"Processing Train Identities\", total=len(labels_df)):\n",
    "        filename, emp_id = row\n",
    "        filepath = os.path.join(img_path, filename)\n",
    "        \n",
    "        img = cv2.imread(filepath)\n",
    "        faces = robust_face_detection(img, app, attempts=4)\n",
    "        \n",
    "        if faces:\n",
    "            face = faces[0]\n",
    "            img_h, img_w = img.shape[:2]\n",
    "            bbox = face.bbox\n",
    "            norm_bbox = [\n",
    "                bbox[0]/img_w,\n",
    "                bbox[1]/img_h,\n",
    "                bbox[2]/img_w,\n",
    "                bbox[3]/img_h\n",
    "            ]\n",
    "            train_data['embedding'].append(\n",
    "                (face.embedding / np.linalg.norm(face.embedding))\n",
    "            )\n",
    "            train_data['enhanced_embedding'].append(\n",
    "                enhance_embedding(face.embedding, face)\n",
    "            )\n",
    "            train_data['emp_id'].append(emp_id)\n",
    "            train_data['norm_bbox'].append(norm_bbox)\n",
    "        else:\n",
    "            # train_data['embedding'].append(np.random.normal(0, 0.01, 512))\n",
    "            # train_data['enhanced_embedding'].append(np.random.normal(0, 0.01,738))\n",
    "            # train_data['emp_id'].append(\"UNKNOWN\")\n",
    "            # train_data['norm_bbox'].append([0.0, 0.0, 0.0, 0.0])\n",
    "            failed_samples.append((emp_id, filepath))\n",
    "        \n",
    "        train_data[\"is_ref\"].append(0)\n",
    "    \n",
    "    for key in train_data:\n",
    "        if key == 'emp_id':\n",
    "            continue\n",
    "        train_data[key] = np.array(train_data[key])\n",
    "    \n",
    "    return train_data, failed_samples\n",
    "\n",
    "train_data, train_failed = create_train_data(train_dir, train_labels, app)"
   ]
  },
  {
   "cell_type": "code",
   "execution_count": 17,
   "id": "d6d97338",
   "metadata": {},
   "outputs": [
    {
     "data": {
      "text/plain": [
       "((1066, 512), (1066, 738))"
      ]
     },
     "execution_count": 17,
     "metadata": {},
     "output_type": "execute_result"
    }
   ],
   "source": [
    "train_data[\"embedding\"].shape, train_data[\"enhanced_embedding\"].shape"
   ]
  },
  {
   "cell_type": "code",
   "execution_count": 16,
   "id": "19b8c85e",
   "metadata": {},
   "outputs": [
    {
     "name": "stdout",
     "output_type": "stream",
     "text": [
      "Training images used (%): 90.42\n"
     ]
    }
   ],
   "source": [
    "print(f\"Training images used (%): {((len(train_labels) - len(train_failed)) / len(train_labels)) * 100:.2f}\")"
   ]
  },
  {
   "cell_type": "code",
   "execution_count": 18,
   "id": "2f72862d",
   "metadata": {},
   "outputs": [],
   "source": [
    "scaler = StandardScaler()\n",
    "\n",
    "def create_feature_vectors(ref_data, scaler, return_target=True, weights=None, enhanced_embedding=False):\n",
    "\n",
    "    if enhanced_embedding:\n",
    "        embeddings = np.array(ref_data[\"enhanced_embedding\"])\n",
    "    else:\n",
    "        embeddings = np.array(ref_data[\"embedding\"])\n",
    "    norm_bbox = np.array(ref_data[\"norm_bbox\"])\n",
    "\n",
    "    features_to_normalize = np.hstack([\n",
    "        norm_bbox\n",
    "    ])\n",
    "\n",
    "    normalized_features = scaler.fit_transform(features_to_normalize)\n",
    "    \n",
    "    norm_bbox = normalized_features[:, :4]\n",
    "\n",
    "    features = np.hstack([\n",
    "        embeddings * weights[\"embeddings\"],        \n",
    "        norm_bbox * weights[\"norm_bbox\"],\n",
    "    ])\n",
    "    \n",
    "    metadata = {\n",
    "        \"emp_ids\": np.array(ref_data[\"emp_id\"]) if return_target else None,\n",
    "        \"feature_names\": [\n",
    "            *[f\"embedding_{i}\" for i in range(512)],\n",
    "            \"bbox_x1\", \"bbox_y1\", \"bbox_x2\", \"bbox_y2\",\n",
    "        ],\n",
    "        \"scaler\": scaler\n",
    "    }\n",
    "    if return_target:\n",
    "        target = ref_data['emp_id']\n",
    "    else:\n",
    "        target = None\n",
    "\n",
    "    return features, target, metadata"
   ]
  },
  {
   "cell_type": "code",
   "execution_count": 19,
   "id": "444acc80",
   "metadata": {},
   "outputs": [
    {
     "data": {
      "text/plain": [
       "(448, 742)"
      ]
     },
     "execution_count": 19,
     "metadata": {},
     "output_type": "execute_result"
    }
   ],
   "source": [
    "ref_feats, ref_target, ref_metadata = create_feature_vectors(\n",
    "    ref_data, scaler, weights=CONFIG[\"FEATURE_WEIGHTS\"], enhanced_embedding=CONFIG[\"ENHANCE_EMB\"]\n",
    ")\n",
    "ref_feats.shape"
   ]
  },
  {
   "cell_type": "code",
   "execution_count": 20,
   "id": "a789b585",
   "metadata": {},
   "outputs": [
    {
     "data": {
      "text/plain": [
       "(1066, 742)"
      ]
     },
     "execution_count": 20,
     "metadata": {},
     "output_type": "execute_result"
    }
   ],
   "source": [
    "train_feats, train_target, train_metadata = create_feature_vectors(\n",
    "    train_data, scaler, weights=CONFIG[\"FEATURE_WEIGHTS\"], enhanced_embedding=CONFIG[\"ENHANCE_EMB\"]\n",
    ")\n",
    "train_feats.shape"
   ]
  },
  {
   "cell_type": "markdown",
   "id": "736e0bed",
   "metadata": {},
   "source": [
    "# Get Features and Labels"
   ]
  },
  {
   "cell_type": "code",
   "execution_count": 21,
   "id": "cb62ae28",
   "metadata": {},
   "outputs": [],
   "source": [
    "classes = np.unique(train_target + ref_target)\n",
    "le = LabelEncoder()\n",
    "le.fit(classes)\n",
    "\n",
    "X = np.vstack([train_feats, ref_feats])\n",
    "y = np.hstack([le.transform(train_target), le.transform(ref_target)])"
   ]
  },
  {
   "cell_type": "code",
   "execution_count": 22,
   "id": "0980c96f",
   "metadata": {},
   "outputs": [
    {
     "name": "stderr",
     "output_type": "stream",
     "text": [
      "/home/seang/miniconda3/envs/DataMind/lib/python3.10/site-packages/sklearn/utils/deprecation.py:132: FutureWarning: 'force_all_finite' was renamed to 'ensure_all_finite' in 1.6 and will be removed in 1.8.\n",
      "  warnings.warn(\n",
      "/home/seang/miniconda3/envs/DataMind/lib/python3.10/site-packages/umap/umap_.py:1952: UserWarning: n_jobs value 1 overridden to 1 by setting random_state. Use no seed for parallelism.\n",
      "  warn(\n"
     ]
    },
    {
     "ename": "IndexError",
     "evalue": "boolean index did not match indexed array along dimension 0; dimension is 1514 but corresponding boolean dimension is 1631",
     "output_type": "error",
     "traceback": [
      "\u001b[0;31m---------------------------------------------------------------------------\u001b[0m",
      "\u001b[0;31mIndexError\u001b[0m                                Traceback (most recent call last)",
      "Cell \u001b[0;32mIn[22], line 17\u001b[0m\n\u001b[1;32m     14\u001b[0m     plt\u001b[38;5;241m.\u001b[39mlegend()\n\u001b[1;32m     15\u001b[0m     plt\u001b[38;5;241m.\u001b[39mshow()\n\u001b[0;32m---> 17\u001b[0m \u001b[43mplot_umap_with_refs\u001b[49m\u001b[43m(\u001b[49m\u001b[43mX\u001b[49m\u001b[43m,\u001b[49m\u001b[43m \u001b[49m\u001b[43my\u001b[49m\u001b[43m,\u001b[49m\u001b[43m \u001b[49m\u001b[43mnp\u001b[49m\u001b[38;5;241;43m.\u001b[39;49m\u001b[43mconcatenate\u001b[49m\u001b[43m(\u001b[49m\u001b[43m(\u001b[49m\u001b[43mtrain_data\u001b[49m\u001b[43m[\u001b[49m\u001b[38;5;124;43m'\u001b[39;49m\u001b[38;5;124;43mis_ref\u001b[39;49m\u001b[38;5;124;43m'\u001b[39;49m\u001b[43m]\u001b[49m\u001b[43m \u001b[49m\u001b[43m,\u001b[49m\u001b[43mref_data\u001b[49m\u001b[43m[\u001b[49m\u001b[38;5;124;43m'\u001b[39;49m\u001b[38;5;124;43mis_ref\u001b[39;49m\u001b[38;5;124;43m'\u001b[39;49m\u001b[43m]\u001b[49m\u001b[43m)\u001b[49m\u001b[43m)\u001b[49m\u001b[43m)\u001b[49m\n",
      "Cell \u001b[0;32mIn[22], line 9\u001b[0m, in \u001b[0;36mplot_umap_with_refs\u001b[0;34m(features, labels, is_ref, title)\u001b[0m\n\u001b[1;32m      6\u001b[0m ref_mask \u001b[38;5;241m=\u001b[39m is_ref \u001b[38;5;241m==\u001b[39m \u001b[38;5;241m1\u001b[39m\n\u001b[1;32m      7\u001b[0m train_mask \u001b[38;5;241m=\u001b[39m is_ref \u001b[38;5;241m==\u001b[39m \u001b[38;5;241m0\u001b[39m\n\u001b[0;32m----> 9\u001b[0m plt\u001b[38;5;241m.\u001b[39mscatter(\u001b[43memb_2d\u001b[49m\u001b[43m[\u001b[49m\u001b[43mtrain_mask\u001b[49m\u001b[43m,\u001b[49m\u001b[43m \u001b[49m\u001b[38;5;241;43m0\u001b[39;49m\u001b[43m]\u001b[49m, emb_2d[train_mask, \u001b[38;5;241m1\u001b[39m], c\u001b[38;5;241m=\u001b[39mlabels[train_mask], cmap\u001b[38;5;241m=\u001b[39m\u001b[38;5;124m\"\u001b[39m\u001b[38;5;124mtab20\u001b[39m\u001b[38;5;124m\"\u001b[39m, s\u001b[38;5;241m=\u001b[39m\u001b[38;5;241m10\u001b[39m, alpha\u001b[38;5;241m=\u001b[39m\u001b[38;5;241m0.5\u001b[39m, label\u001b[38;5;241m=\u001b[39m\u001b[38;5;124m\"\u001b[39m\u001b[38;5;124mTrain\u001b[39m\u001b[38;5;124m\"\u001b[39m)\n\u001b[1;32m     10\u001b[0m plt\u001b[38;5;241m.\u001b[39mscatter(emb_2d[ref_mask, \u001b[38;5;241m0\u001b[39m], emb_2d[ref_mask, \u001b[38;5;241m1\u001b[39m], edgecolors\u001b[38;5;241m=\u001b[39m\u001b[38;5;124m'\u001b[39m\u001b[38;5;124mk\u001b[39m\u001b[38;5;124m'\u001b[39m, c\u001b[38;5;241m=\u001b[39mlabels[ref_mask], cmap\u001b[38;5;241m=\u001b[39m\u001b[38;5;124m\"\u001b[39m\u001b[38;5;124mtab20\u001b[39m\u001b[38;5;124m\"\u001b[39m, s\u001b[38;5;241m=\u001b[39m\u001b[38;5;241m30\u001b[39m, alpha\u001b[38;5;241m=\u001b[39m\u001b[38;5;241m0.9\u001b[39m, label\u001b[38;5;241m=\u001b[39m\u001b[38;5;124m\"\u001b[39m\u001b[38;5;124mReference\u001b[39m\u001b[38;5;124m\"\u001b[39m, marker\u001b[38;5;241m=\u001b[39m\u001b[38;5;124m'\u001b[39m\u001b[38;5;124mx\u001b[39m\u001b[38;5;124m'\u001b[39m)\n\u001b[1;32m     12\u001b[0m plt\u001b[38;5;241m.\u001b[39mtitle(title)\n",
      "\u001b[0;31mIndexError\u001b[0m: boolean index did not match indexed array along dimension 0; dimension is 1514 but corresponding boolean dimension is 1631"
     ]
    },
    {
     "data": {
      "text/plain": [
       "<Figure size 1000x800 with 0 Axes>"
      ]
     },
     "metadata": {},
     "output_type": "display_data"
    }
   ],
   "source": [
    "def plot_umap_with_refs(features, labels, is_ref, title=\"UMAP Projection with Reference Highlight\"):\n",
    "    reducer = umap.UMAP(n_neighbors=15, min_dist=0.1, random_state=CONFIG[\"RANDOM_STATE\"])\n",
    "    emb_2d = reducer.fit_transform(features)\n",
    "    \n",
    "    plt.figure(figsize=(10, 8))\n",
    "    ref_mask = is_ref == 1\n",
    "    train_mask = is_ref == 0\n",
    "    \n",
    "    plt.scatter(emb_2d[train_mask, 0], emb_2d[train_mask, 1], c=labels[train_mask], cmap=\"tab20\", s=10, alpha=0.5, label=\"Train\")\n",
    "    plt.scatter(emb_2d[ref_mask, 0], emb_2d[ref_mask, 1], edgecolors='k', c=labels[ref_mask], cmap=\"tab20\", s=30, alpha=0.9, label=\"Reference\", marker='x')\n",
    "    \n",
    "    plt.title(title)\n",
    "    plt.grid(True)\n",
    "    plt.legend()\n",
    "    plt.show()\n",
    "\n",
    "plot_umap_with_refs(X, y, np.concatenate((train_data['is_ref'] ,ref_data['is_ref'])))"
   ]
  },
  {
   "cell_type": "code",
   "execution_count": 46,
   "id": "6e67cabb",
   "metadata": {},
   "outputs": [],
   "source": [
    "from sklearn.base import BaseEstimator, ClassifierMixin\n",
    "\n",
    "class CosineSimilarityModel(BaseEstimator, ClassifierMixin):\n",
    "    def __init__(self, threshold=0.6, unknown_label=\"UNKNOWN\"):\n",
    "        self.threshold = threshold\n",
    "        self.unknown_label = unknown_label\n",
    "        self.classes_ = None\n",
    "        self.prototypes_ = None\n",
    "        \n",
    "    def fit(self, X, y):\n",
    "        self.classes_ = np.unique(y)\n",
    "        # Store both string and encoded labels\n",
    "        self.le_ = LabelEncoder().fit(y)\n",
    "        self.prototypes_ = np.array([X[y == cls].mean(axis=0) for cls in self.classes_])\n",
    "        print(self.prototypes_.shape)\n",
    "        return self\n",
    "        \n",
    "    def predict(self, X):\n",
    "        scores = cosine_similarity(X, self.prototypes_)\n",
    "        best_scores = np.max(scores, axis=1)\n",
    "        best_indices = np.argmax(scores, axis=1)\n",
    "        \n",
    "        # Convert to numerical labels first\n",
    "        num_preds = np.where(\n",
    "            best_scores >= self.threshold,\n",
    "            self.le_.transform(self.classes_[best_indices]),\n",
    "            -1  # Temporary unknown code\n",
    "        )\n",
    "        \n",
    "        return num_preds\n",
    "    \n",
    "    def predict_proba(self, X):\n",
    "        scores = cosine_similarity(X, self.prototypes_)\n",
    "        exp_scores = np.exp(scores - np.max(scores, axis=1, keepdims=True))\n",
    "        return exp_scores / exp_scores.sum(axis=1, keepdims=True)"
   ]
  },
  {
   "cell_type": "code",
   "execution_count": 24,
   "id": "5e989f2b",
   "metadata": {},
   "outputs": [],
   "source": [
    "class CrossValidator:\n",
    "    def __init__(self, models, metric_fns, cv_method, name=None, verbose=True):\n",
    "        self.models = models\n",
    "        self.metric_fns = metric_fns\n",
    "        self.cv_method = cv_method\n",
    "        self.name = name\n",
    "        self.verbose = verbose\n",
    "        self.results = {}\n",
    "\n",
    "    def _calculate_metrics(self, y_true, y_pred):\n",
    "        results = {}\n",
    "        for name, fn in self.metric_fns:\n",
    "            try:\n",
    "                if name == \"macro_f1\":\n",
    "                    results[name] = fn(y_true, y_pred, average=\"macro\")\n",
    "                else:\n",
    "                    results[name] = fn(y_true, y_pred)\n",
    "            except Exception as e:\n",
    "                print(f\"Metric {name} failed: {str(e)}\")\n",
    "                results[name] = np.nan\n",
    "        return results\n",
    "\n",
    "    def fit(self, X, y):\n",
    "        self.results = {model[0]: [] for model in self.models}\n",
    "        print(f\"Name: {self.name}\\n\")\n",
    "        for fold, (train_idx, test_idx) in enumerate(self.cv_method.split(X, y)):\n",
    "            if self.verbose:\n",
    "                print(f\"\\nFold {fold + 1}/{self.cv_method.n_splits}\")\n",
    "                print(\"-\"*40)\n",
    "            \n",
    "            X_train, X_test = X[train_idx], X[test_idx]\n",
    "            y_train, y_test = y[train_idx], y[test_idx]\n",
    "            \n",
    "            for name, model in self.models:\n",
    "                model.fit(X_train, y_train)\n",
    "                y_pred = model.predict(X_test)\n",
    "                \n",
    "                metrics = self._calculate_metrics(y_test, y_pred)\n",
    "                self.results[name].append(metrics)\n",
    "                \n",
    "                if self.verbose:\n",
    "                    print(f\"- {name}:\")\n",
    "                    for m, v in metrics.items():\n",
    "                        print(f\"  {m}: {v:.4f}\")\n",
    "                    print(\"\\n\")\n",
    "\n",
    "    def summarize(self):\n",
    "        summary = {}\n",
    "        for name in self.results.keys():\n",
    "            fold_results = pd.DataFrame(self.results[name])\n",
    "            summary[name] = {\n",
    "                'mean': fold_results.mean(),\n",
    "                'std': fold_results.std()\n",
    "            }\n",
    "        return summary"
   ]
  },
  {
   "cell_type": "code",
   "execution_count": null,
   "id": "7b60123e",
   "metadata": {},
   "outputs": [
    {
     "name": "stdout",
     "output_type": "stream",
     "text": [
      "Name: Base Models CV\n",
      "\n",
      "\n",
      "Fold 1/10\n",
      "----------------------------------------\n",
      "- RidgeClassifier:\n",
      "  macro_f1: 0.9011\n",
      "  macro_accuracy: 0.9149\n",
      "\n",
      "\n",
      "- CosineSimilarity:\n",
      "  macro_f1: 0.5425\n",
      "  macro_accuracy: 0.5512\n",
      "\n",
      "\n",
      "- LinearSVC:\n",
      "  macro_f1: 0.9098\n",
      "  macro_accuracy: 0.9221\n",
      "\n",
      "\n",
      "\n",
      "Fold 2/10\n",
      "----------------------------------------\n",
      "- RidgeClassifier:\n",
      "  macro_f1: 0.8892\n",
      "  macro_accuracy: 0.9086\n",
      "\n",
      "\n",
      "- CosineSimilarity:\n",
      "  macro_f1: 0.4148\n",
      "  macro_accuracy: 0.4334\n",
      "\n",
      "\n",
      "- LinearSVC:\n",
      "  macro_f1: 0.9022\n",
      "  macro_accuracy: 0.9088\n",
      "\n",
      "\n",
      "\n",
      "Fold 3/10\n",
      "----------------------------------------\n",
      "- RidgeClassifier:\n",
      "  macro_f1: 0.9164\n",
      "  macro_accuracy: 0.9344\n",
      "\n",
      "\n",
      "- CosineSimilarity:\n",
      "  macro_f1: 0.4733\n",
      "  macro_accuracy: 0.5000\n",
      "\n",
      "\n",
      "- LinearSVC:\n",
      "  macro_f1: 0.9241\n",
      "  macro_accuracy: 0.9380\n",
      "\n",
      "\n",
      "\n",
      "Fold 4/10\n",
      "----------------------------------------\n",
      "- RidgeClassifier:\n",
      "  macro_f1: 0.9124\n",
      "  macro_accuracy: 0.9188\n",
      "\n",
      "\n",
      "- CosineSimilarity:\n",
      "  macro_f1: 0.4786\n",
      "  macro_accuracy: 0.4760\n",
      "\n",
      "\n",
      "- LinearSVC:\n",
      "  macro_f1: 0.9054\n",
      "  macro_accuracy: 0.9200\n",
      "\n",
      "\n",
      "\n",
      "Fold 5/10\n",
      "----------------------------------------\n",
      "- RidgeClassifier:\n",
      "  macro_f1: 0.9383\n",
      "  macro_accuracy: 0.9417\n",
      "\n",
      "\n",
      "- CosineSimilarity:\n",
      "  macro_f1: 0.5677\n",
      "  macro_accuracy: 0.6080\n",
      "\n",
      "\n",
      "- LinearSVC:\n",
      "  macro_f1: 0.9302\n",
      "  macro_accuracy: 0.9360\n",
      "\n",
      "\n",
      "\n",
      "Fold 6/10\n",
      "----------------------------------------\n",
      "- RidgeClassifier:\n",
      "  macro_f1: 0.8670\n",
      "  macro_accuracy: 0.8878\n",
      "\n",
      "\n",
      "- CosineSimilarity:\n",
      "  macro_f1: 0.3585\n",
      "  macro_accuracy: 0.3956\n",
      "\n",
      "\n",
      "- LinearSVC:\n",
      "  macro_f1: 0.8745\n",
      "  macro_accuracy: 0.8922\n",
      "\n",
      "\n",
      "\n",
      "Fold 7/10\n",
      "----------------------------------------\n",
      "- RidgeClassifier:\n",
      "  macro_f1: 0.8826\n",
      "  macro_accuracy: 0.8848\n",
      "\n",
      "\n",
      "- CosineSimilarity:\n",
      "  macro_f1: 0.5172\n",
      "  macro_accuracy: 0.5620\n",
      "\n",
      "\n",
      "- LinearSVC:\n",
      "  macro_f1: 0.8987\n",
      "  macro_accuracy: 0.8948\n",
      "\n",
      "\n",
      "\n",
      "Fold 8/10\n",
      "----------------------------------------\n",
      "- RidgeClassifier:\n",
      "  macro_f1: 0.9215\n",
      "  macro_accuracy: 0.9390\n",
      "\n",
      "\n",
      "- CosineSimilarity:\n",
      "  macro_f1: 0.5544\n",
      "  macro_accuracy: 0.5880\n",
      "\n",
      "\n",
      "- LinearSVC:\n",
      "  macro_f1: 0.9196\n",
      "  macro_accuracy: 0.9333\n",
      "\n",
      "\n",
      "\n",
      "Fold 9/10\n",
      "----------------------------------------\n",
      "- RidgeClassifier:\n",
      "  macro_f1: 0.8228\n",
      "  macro_accuracy: 0.8276\n",
      "\n",
      "\n",
      "- CosineSimilarity:\n",
      "  macro_f1: 0.3377\n",
      "  macro_accuracy: 0.3773\n",
      "\n",
      "\n",
      "- LinearSVC:\n",
      "  macro_f1: 0.8355\n",
      "  macro_accuracy: 0.8280\n",
      "\n",
      "\n",
      "\n",
      "Fold 10/10\n",
      "----------------------------------------\n",
      "- RidgeClassifier:\n",
      "  macro_f1: 0.9189\n",
      "  macro_accuracy: 0.9243\n",
      "\n",
      "\n",
      "- CosineSimilarity:\n",
      "  macro_f1: 0.5380\n",
      "  macro_accuracy: 0.5587\n",
      "\n",
      "\n",
      "- LinearSVC:\n",
      "  macro_f1: 0.9185\n",
      "  macro_accuracy: 0.9244\n",
      "\n",
      "\n"
     ]
    }
   ],
   "source": [
    "from sklearn.utils.class_weight import compute_class_weight\n",
    "\n",
    "def macro_accuracy(y_true, y_pred):\n",
    "    unique_classes = np.unique(y_true)\n",
    "    acc_per_class = []\n",
    "    \n",
    "    for c in unique_classes:\n",
    "        class_mask = y_true == c\n",
    "        correct = np.sum((y_pred == y_true) & class_mask)\n",
    "        acc = correct / np.sum(class_mask)\n",
    "        acc_per_class.append(acc)\n",
    "        \n",
    "    return np.mean(acc_per_class) if acc_per_class else 0\n",
    "\n",
    "models = [\n",
    "    (\"RidgeClassifier\", RidgeClassifier(alpha=1.0, class_weight=\"balanced\", random_state=CONFIG[\"RANDOM_STATE\"])),\n",
    "    # (\"CosineSimClassifier\", CosineSimilarityModel(threshold=0.25))\n",
    "    (\"LinearSVC\", LinearSVC(class_weight=\"balanced\", random_state=CONFIG[\"RANDOM_STATE\"])),\n",
    "    # (\"LGBMClassifier\", LGBMClassifier(verbose=-1)),\n",
    "]\n",
    "\n",
    "metric_fns = [\n",
    "    ('macro_f1', f1_score),\n",
    "    ('macro_accuracy', macro_accuracy),\n",
    "]\n",
    "\n",
    "cv = CrossValidator(\n",
    "    models=models, \n",
    "    metric_fns=metric_fns,\n",
    "    cv_method=StratifiedKFold(\n",
    "        n_splits=10, shuffle=True, random_state=CONFIG[\"RANDOM_STATE\"]), \n",
    "    name=\"Base Models CV\"\n",
    ")\n",
    "\n",
    "cv.fit(X, y)"
   ]
  },
  {
   "cell_type": "code",
   "execution_count": 27,
   "id": "7ae83017",
   "metadata": {},
   "outputs": [
    {
     "name": "stdout",
     "output_type": "stream",
     "text": [
      "\n",
      "RidgeClassifier:\n",
      "  macro_f1: 0.8970 ± 0.0335\n",
      "  macro_accuracy: 0.9082 ± 0.0344\n",
      "\n",
      "CosineSimilarity:\n",
      "  macro_f1: 0.4783 ± 0.0824\n",
      "  macro_accuracy: 0.5050 ± 0.0817\n",
      "\n",
      "LinearSVC:\n",
      "  macro_f1: 0.9018 ± 0.0281\n",
      "  macro_accuracy: 0.9098 ± 0.0329\n"
     ]
    }
   ],
   "source": [
    "\n",
    "def view_cv_summary(results):\n",
    "    for model_name, metrics in results.items():\n",
    "        print(f\"\\n{model_name}:\")\n",
    "        for metric, stats in metrics['mean'].items():\n",
    "            print(f\"  {metric}: {stats:.4f} ± {metrics['std'][metric]:.4f}\")\n",
    "\n",
    "view_cv_summary(cv.summarize())"
   ]
  },
  {
   "cell_type": "markdown",
   "id": "5ec60202",
   "metadata": {},
   "source": [
    "# Hyperparameter Tuning"
   ]
  },
  {
   "cell_type": "code",
   "execution_count": 28,
   "id": "39e5b018",
   "metadata": {},
   "outputs": [
    {
     "name": "stderr",
     "output_type": "stream",
     "text": [
      "[I 2025-06-25 21:17:40,388] A new study created in memory with name: no-name-11617752-9007-4588-8c95-84055cf61fc2\n",
      "Best trial: 0. Best value: 0.897352:   1%|          | 1/100 [00:17<28:44, 17.42s/it]"
     ]
    },
    {
     "name": "stdout",
     "output_type": "stream",
     "text": [
      "[I 2025-06-25 21:17:57,798] Trial 0 finished with value: 0.897351962819234 and parameters: {'alpha': 0.15751050168361605, 'solver': 'svd', 'class_weight': 'balanced', 'fit_intercept': True, 'random_state': 42}. Best is trial 0 with value: 0.897351962819234.\n"
     ]
    },
    {
     "name": "stderr",
     "output_type": "stream",
     "text": [
      "Best trial: 0. Best value: 0.897352:   2%|▏         | 2/100 [00:36<30:09, 18.46s/it]"
     ]
    },
    {
     "name": "stdout",
     "output_type": "stream",
     "text": [
      "[I 2025-06-25 21:18:16,981] Trial 1 finished with value: 0.8913110229737828 and parameters: {'alpha': 3.2260144288094805, 'solver': 'svd', 'class_weight': 'balanced', 'fit_intercept': True, 'random_state': 42}. Best is trial 0 with value: 0.897351962819234.\n"
     ]
    },
    {
     "name": "stderr",
     "output_type": "stream",
     "text": [
      "Best trial: 0. Best value: 0.897352:   3%|▎         | 3/100 [00:42<20:25, 12.63s/it]"
     ]
    },
    {
     "name": "stdout",
     "output_type": "stream",
     "text": [
      "[I 2025-06-25 21:18:22,673] Trial 2 finished with value: 0.8813272696030134 and parameters: {'alpha': 0.0020164333148449615, 'solver': 'cholesky', 'class_weight': 'balanced', 'fit_intercept': False, 'random_state': 42}. Best is trial 0 with value: 0.897351962819234.\n"
     ]
    },
    {
     "name": "stderr",
     "output_type": "stream",
     "text": [
      "Best trial: 0. Best value: 0.897352:   4%|▍         | 4/100 [00:47<15:20,  9.59s/it]"
     ]
    },
    {
     "name": "stdout",
     "output_type": "stream",
     "text": [
      "[I 2025-06-25 21:18:27,566] Trial 3 finished with value: 0.8917528852051188 and parameters: {'alpha': 4.1974269754986056, 'solver': 'cholesky', 'class_weight': 'balanced', 'fit_intercept': True, 'random_state': 42}. Best is trial 0 with value: 0.897351962819234.\n"
     ]
    },
    {
     "name": "stderr",
     "output_type": "stream",
     "text": [
      "Best trial: 0. Best value: 0.897352:   5%|▌         | 5/100 [01:05<20:23, 12.88s/it]"
     ]
    },
    {
     "name": "stdout",
     "output_type": "stream",
     "text": [
      "[I 2025-06-25 21:18:46,315] Trial 4 finished with value: 0.8815042652939409 and parameters: {'alpha': 0.0037147921658151556, 'solver': 'svd', 'class_weight': 'balanced', 'fit_intercept': False, 'random_state': 42}. Best is trial 0 with value: 0.897351962819234.\n"
     ]
    },
    {
     "name": "stderr",
     "output_type": "stream",
     "text": [
      "Best trial: 5. Best value: 0.898805:   6%|▌         | 6/100 [01:17<19:26, 12.41s/it]"
     ]
    },
    {
     "name": "stdout",
     "output_type": "stream",
     "text": [
      "[I 2025-06-25 21:18:57,808] Trial 5 finished with value: 0.8988051685893348 and parameters: {'alpha': 0.47946287033587404, 'solver': 'svd', 'class_weight': 'balanced', 'fit_intercept': True, 'random_state': 42}. Best is trial 5 with value: 0.8988051685893348.\n"
     ]
    },
    {
     "name": "stderr",
     "output_type": "stream",
     "text": [
      "Best trial: 5. Best value: 0.898805:   7%|▋         | 7/100 [01:27<18:09, 11.72s/it]"
     ]
    },
    {
     "name": "stdout",
     "output_type": "stream",
     "text": [
      "[I 2025-06-25 21:19:08,101] Trial 6 finished with value: 0.8967951708108526 and parameters: {'alpha': 0.1065876861621049, 'solver': 'svd', 'class_weight': 'balanced', 'fit_intercept': False, 'random_state': 42}. Best is trial 5 with value: 0.8988051685893348.\n"
     ]
    },
    {
     "name": "stderr",
     "output_type": "stream",
     "text": [
      "Best trial: 7. Best value: 0.899505:   8%|▊         | 8/100 [01:43<19:47, 12.91s/it]"
     ]
    },
    {
     "name": "stdout",
     "output_type": "stream",
     "text": [
      "[I 2025-06-25 21:19:23,579] Trial 7 finished with value: 0.8995045096188397 and parameters: {'alpha': 0.13576723187212247, 'solver': 'sparse_cg', 'class_weight': 'balanced', 'fit_intercept': False, 'random_state': 42}. Best is trial 7 with value: 0.8995045096188397.\n"
     ]
    },
    {
     "name": "stderr",
     "output_type": "stream",
     "text": [
      "Best trial: 7. Best value: 0.899505:   9%|▉         | 9/100 [01:50<16:46, 11.06s/it]"
     ]
    },
    {
     "name": "stdout",
     "output_type": "stream",
     "text": [
      "[I 2025-06-25 21:19:30,585] Trial 8 finished with value: 0.8970043526427871 and parameters: {'alpha': 0.9464034136864101, 'solver': 'svd', 'class_weight': 'balanced', 'fit_intercept': False, 'random_state': 42}. Best is trial 7 with value: 0.8995045096188397.\n"
     ]
    },
    {
     "name": "stderr",
     "output_type": "stream",
     "text": [
      "Best trial: 7. Best value: 0.899505:  10%|█         | 10/100 [01:57<14:54,  9.94s/it]"
     ]
    },
    {
     "name": "stdout",
     "output_type": "stream",
     "text": [
      "[I 2025-06-25 21:19:37,980] Trial 9 finished with value: 0.8817813866688067 and parameters: {'alpha': 0.004382227387773478, 'solver': 'svd', 'class_weight': 'balanced', 'fit_intercept': False, 'random_state': 42}. Best is trial 7 with value: 0.8995045096188397.\n"
     ]
    },
    {
     "name": "stderr",
     "output_type": "stream",
     "text": [
      "Best trial: 7. Best value: 0.899505:  11%|█         | 11/100 [02:24<22:21, 15.07s/it]"
     ]
    },
    {
     "name": "stdout",
     "output_type": "stream",
     "text": [
      "[I 2025-06-25 21:20:04,702] Trial 10 finished with value: 0.8869895741764193 and parameters: {'alpha': 0.022266290365531013, 'solver': 'sparse_cg', 'class_weight': 'balanced', 'fit_intercept': False, 'random_state': 42}. Best is trial 7 with value: 0.8995045096188397.\n"
     ]
    },
    {
     "name": "stderr",
     "output_type": "stream",
     "text": [
      "Best trial: 11. Best value: 0.899743:  12%|█▏        | 12/100 [02:30<18:16, 12.46s/it]"
     ]
    },
    {
     "name": "stdout",
     "output_type": "stream",
     "text": [
      "[I 2025-06-25 21:20:11,212] Trial 11 finished with value: 0.8997431854596826 and parameters: {'alpha': 0.3833283251194912, 'solver': 'sparse_cg', 'class_weight': 'balanced', 'fit_intercept': True, 'random_state': 42}. Best is trial 11 with value: 0.8997431854596826.\n"
     ]
    },
    {
     "name": "stderr",
     "output_type": "stream",
     "text": [
      "Best trial: 11. Best value: 0.899743:  13%|█▎        | 13/100 [02:46<19:33, 13.49s/it]"
     ]
    },
    {
     "name": "stdout",
     "output_type": "stream",
     "text": [
      "[I 2025-06-25 21:20:27,065] Trial 12 finished with value: 0.8909043662740951 and parameters: {'alpha': 0.031870622321927826, 'solver': 'sparse_cg', 'class_weight': 'balanced', 'fit_intercept': True, 'random_state': 42}. Best is trial 11 with value: 0.8997431854596826.\n"
     ]
    },
    {
     "name": "stderr",
     "output_type": "stream",
     "text": [
      "Best trial: 11. Best value: 0.899743:  14%|█▍        | 14/100 [02:55<17:14, 12.03s/it]"
     ]
    },
    {
     "name": "stdout",
     "output_type": "stream",
     "text": [
      "[I 2025-06-25 21:20:35,715] Trial 13 finished with value: 0.8995323011059412 and parameters: {'alpha': 0.37600157819843905, 'solver': 'sparse_cg', 'class_weight': 'balanced', 'fit_intercept': True, 'random_state': 42}. Best is trial 11 with value: 0.8997431854596826.\n"
     ]
    },
    {
     "name": "stderr",
     "output_type": "stream",
     "text": [
      "Best trial: 11. Best value: 0.899743:  15%|█▌        | 15/100 [03:02<14:54, 10.52s/it]"
     ]
    },
    {
     "name": "stdout",
     "output_type": "stream",
     "text": [
      "[I 2025-06-25 21:20:42,754] Trial 14 finished with value: 0.8983850112490094 and parameters: {'alpha': 0.7088511833132601, 'solver': 'sparse_cg', 'class_weight': 'balanced', 'fit_intercept': True, 'random_state': 42}. Best is trial 11 with value: 0.8997431854596826.\n"
     ]
    },
    {
     "name": "stderr",
     "output_type": "stream",
     "text": [
      "Best trial: 15. Best value: 0.90058:  16%|█▌        | 16/100 [03:10<13:35,  9.71s/it] "
     ]
    },
    {
     "name": "stdout",
     "output_type": "stream",
     "text": [
      "[I 2025-06-25 21:20:50,564] Trial 15 finished with value: 0.9005799201535603 and parameters: {'alpha': 0.2538247299320639, 'solver': 'sparse_cg', 'class_weight': 'balanced', 'fit_intercept': True, 'random_state': 42}. Best is trial 15 with value: 0.9005799201535603.\n"
     ]
    },
    {
     "name": "stderr",
     "output_type": "stream",
     "text": [
      "Best trial: 15. Best value: 0.90058:  17%|█▋        | 17/100 [03:39<21:47, 15.75s/it]"
     ]
    },
    {
     "name": "stdout",
     "output_type": "stream",
     "text": [
      "[I 2025-06-25 21:21:20,378] Trial 16 finished with value: 0.8900577814863337 and parameters: {'alpha': 0.023939724779279265, 'solver': 'sparse_cg', 'class_weight': 'balanced', 'fit_intercept': True, 'random_state': 42}. Best is trial 15 with value: 0.9005799201535603.\n"
     ]
    },
    {
     "name": "stderr",
     "output_type": "stream",
     "text": [
      "Best trial: 15. Best value: 0.90058:  18%|█▊        | 18/100 [03:46<17:48, 13.03s/it]"
     ]
    },
    {
     "name": "stdout",
     "output_type": "stream",
     "text": [
      "[I 2025-06-25 21:21:27,071] Trial 17 finished with value: 0.896002609165369 and parameters: {'alpha': 1.495997016766286, 'solver': 'sparse_cg', 'class_weight': 'balanced', 'fit_intercept': True, 'random_state': 42}. Best is trial 15 with value: 0.9005799201535603.\n"
     ]
    },
    {
     "name": "stderr",
     "output_type": "stream",
     "text": [
      "Best trial: 15. Best value: 0.90058:  19%|█▉        | 19/100 [03:58<17:11, 12.74s/it]"
     ]
    },
    {
     "name": "stdout",
     "output_type": "stream",
     "text": [
      "[I 2025-06-25 21:21:39,130] Trial 18 finished with value: 0.8998365682673513 and parameters: {'alpha': 0.26897118158913835, 'solver': 'sparse_cg', 'class_weight': 'balanced', 'fit_intercept': True, 'random_state': 42}. Best is trial 15 with value: 0.9005799201535603.\n"
     ]
    },
    {
     "name": "stderr",
     "output_type": "stream",
     "text": [
      "Best trial: 15. Best value: 0.90058:  20%|██        | 20/100 [04:01<12:56,  9.71s/it]"
     ]
    },
    {
     "name": "stdout",
     "output_type": "stream",
     "text": [
      "[I 2025-06-25 21:21:41,779] Trial 19 finished with value: 0.891554011827323 and parameters: {'alpha': 0.05217573246234843, 'solver': 'cholesky', 'class_weight': 'balanced', 'fit_intercept': True, 'random_state': 42}. Best is trial 15 with value: 0.9005799201535603.\n"
     ]
    },
    {
     "name": "stderr",
     "output_type": "stream",
     "text": [
      "Best trial: 15. Best value: 0.90058:  21%|██        | 21/100 [04:49<27:46, 21.09s/it]"
     ]
    },
    {
     "name": "stdout",
     "output_type": "stream",
     "text": [
      "[I 2025-06-25 21:22:29,400] Trial 20 finished with value: 0.8827484275644191 and parameters: {'alpha': 0.009621399119812428, 'solver': 'sparse_cg', 'class_weight': 'balanced', 'fit_intercept': True, 'random_state': 42}. Best is trial 15 with value: 0.9005799201535603.\n"
     ]
    },
    {
     "name": "stderr",
     "output_type": "stream",
     "text": [
      "Best trial: 15. Best value: 0.90058:  22%|██▏       | 22/100 [04:59<23:08, 17.80s/it]"
     ]
    },
    {
     "name": "stdout",
     "output_type": "stream",
     "text": [
      "[I 2025-06-25 21:22:39,526] Trial 21 finished with value: 0.9005799201535603 and parameters: {'alpha': 0.2453154624789581, 'solver': 'sparse_cg', 'class_weight': 'balanced', 'fit_intercept': True, 'random_state': 42}. Best is trial 15 with value: 0.9005799201535603.\n"
     ]
    },
    {
     "name": "stderr",
     "output_type": "stream",
     "text": [
      "Best trial: 15. Best value: 0.90058:  23%|██▎       | 23/100 [05:10<20:32, 16.01s/it]"
     ]
    },
    {
     "name": "stdout",
     "output_type": "stream",
     "text": [
      "[I 2025-06-25 21:22:51,361] Trial 22 finished with value: 0.8985494716105066 and parameters: {'alpha': 0.20652448963449857, 'solver': 'sparse_cg', 'class_weight': 'balanced', 'fit_intercept': True, 'random_state': 42}. Best is trial 15 with value: 0.9005799201535603.\n"
     ]
    },
    {
     "name": "stderr",
     "output_type": "stream",
     "text": [
      "Best trial: 15. Best value: 0.90058:  24%|██▍       | 24/100 [06:01<33:19, 26.31s/it]"
     ]
    },
    {
     "name": "stdout",
     "output_type": "stream",
     "text": [
      "[I 2025-06-25 21:23:41,689] Trial 23 finished with value: 0.892405356610114 and parameters: {'alpha': 0.06261132136264838, 'solver': 'sparse_cg', 'class_weight': 'balanced', 'fit_intercept': True, 'random_state': 42}. Best is trial 15 with value: 0.9005799201535603.\n"
     ]
    },
    {
     "name": "stderr",
     "output_type": "stream",
     "text": [
      "Best trial: 15. Best value: 0.90058:  25%|██▌       | 25/100 [06:05<24:26, 19.55s/it]"
     ]
    },
    {
     "name": "stdout",
     "output_type": "stream",
     "text": [
      "[I 2025-06-25 21:23:45,471] Trial 24 finished with value: 0.8958169353620482 and parameters: {'alpha': 1.6178003258706817, 'solver': 'sparse_cg', 'class_weight': 'balanced', 'fit_intercept': True, 'random_state': 42}. Best is trial 15 with value: 0.9005799201535603.\n"
     ]
    },
    {
     "name": "stderr",
     "output_type": "stream",
     "text": [
      "Best trial: 15. Best value: 0.90058:  26%|██▌       | 26/100 [06:15<20:53, 16.94s/it]"
     ]
    },
    {
     "name": "stdout",
     "output_type": "stream",
     "text": [
      "[I 2025-06-25 21:23:56,318] Trial 25 finished with value: 0.8998365682673513 and parameters: {'alpha': 0.2644225209867754, 'solver': 'sparse_cg', 'class_weight': 'balanced', 'fit_intercept': True, 'random_state': 42}. Best is trial 15 with value: 0.9005799201535603.\n"
     ]
    },
    {
     "name": "stderr",
     "output_type": "stream",
     "text": [
      "Best trial: 15. Best value: 0.90058:  27%|██▋       | 27/100 [06:19<15:39, 12.88s/it]"
     ]
    },
    {
     "name": "stdout",
     "output_type": "stream",
     "text": [
      "[I 2025-06-25 21:23:59,721] Trial 26 finished with value: 0.894016552603663 and parameters: {'alpha': 0.08647625577773271, 'solver': 'cholesky', 'class_weight': 'balanced', 'fit_intercept': True, 'random_state': 42}. Best is trial 15 with value: 0.9005799201535603.\n"
     ]
    },
    {
     "name": "stderr",
     "output_type": "stream",
     "text": [
      "Best trial: 15. Best value: 0.90058:  28%|██▊       | 28/100 [06:38<17:36, 14.67s/it]"
     ]
    },
    {
     "name": "stdout",
     "output_type": "stream",
     "text": [
      "[I 2025-06-25 21:24:18,591] Trial 27 finished with value: 0.8975806652190995 and parameters: {'alpha': 0.7673119111645481, 'solver': 'sparse_cg', 'class_weight': 'balanced', 'fit_intercept': True, 'random_state': 42}. Best is trial 15 with value: 0.9005799201535603.\n"
     ]
    },
    {
     "name": "stderr",
     "output_type": "stream",
     "text": [
      "Best trial: 15. Best value: 0.90058:  29%|██▉       | 29/100 [06:53<17:31, 14.80s/it]"
     ]
    },
    {
     "name": "stdout",
     "output_type": "stream",
     "text": [
      "[I 2025-06-25 21:24:33,699] Trial 28 finished with value: 0.9005799201535603 and parameters: {'alpha': 0.23545699877610002, 'solver': 'sparse_cg', 'class_weight': 'balanced', 'fit_intercept': True, 'random_state': 42}. Best is trial 15 with value: 0.9005799201535603.\n"
     ]
    },
    {
     "name": "stderr",
     "output_type": "stream",
     "text": [
      "Best trial: 15. Best value: 0.90058:  30%|███       | 30/100 [07:06<16:45, 14.36s/it]"
     ]
    },
    {
     "name": "stdout",
     "output_type": "stream",
     "text": [
      "[I 2025-06-25 21:24:47,018] Trial 29 finished with value: 0.8991544786973803 and parameters: {'alpha': 0.14266934724754887, 'solver': 'sparse_cg', 'class_weight': 'balanced', 'fit_intercept': True, 'random_state': 42}. Best is trial 15 with value: 0.9005799201535603.\n"
     ]
    },
    {
     "name": "stderr",
     "output_type": "stream",
     "text": [
      "Best trial: 15. Best value: 0.90058:  31%|███       | 31/100 [07:10<12:48, 11.14s/it]"
     ]
    },
    {
     "name": "stdout",
     "output_type": "stream",
     "text": [
      "[I 2025-06-25 21:24:50,657] Trial 30 finished with value: 0.8921504576931187 and parameters: {'alpha': 0.040756150689077286, 'solver': 'cholesky', 'class_weight': 'balanced', 'fit_intercept': True, 'random_state': 42}. Best is trial 15 with value: 0.9005799201535603.\n"
     ]
    },
    {
     "name": "stderr",
     "output_type": "stream",
     "text": [
      "Best trial: 15. Best value: 0.90058:  32%|███▏      | 32/100 [07:29<15:23, 13.58s/it]"
     ]
    },
    {
     "name": "stdout",
     "output_type": "stream",
     "text": [
      "[I 2025-06-25 21:25:09,909] Trial 31 finished with value: 0.899217375135553 and parameters: {'alpha': 0.2210287449764475, 'solver': 'sparse_cg', 'class_weight': 'balanced', 'fit_intercept': True, 'random_state': 42}. Best is trial 15 with value: 0.9005799201535603.\n"
     ]
    },
    {
     "name": "stderr",
     "output_type": "stream",
     "text": [
      "Best trial: 15. Best value: 0.90058:  33%|███▎      | 33/100 [07:34<12:18, 11.02s/it]"
     ]
    },
    {
     "name": "stdout",
     "output_type": "stream",
     "text": [
      "[I 2025-06-25 21:25:14,950] Trial 32 finished with value: 0.8954850025889387 and parameters: {'alpha': 1.5693290158114155, 'solver': 'sparse_cg', 'class_weight': 'balanced', 'fit_intercept': True, 'random_state': 42}. Best is trial 15 with value: 0.9005799201535603.\n"
     ]
    },
    {
     "name": "stderr",
     "output_type": "stream",
     "text": [
      "Best trial: 15. Best value: 0.90058:  34%|███▍      | 34/100 [08:12<21:06, 19.19s/it]"
     ]
    },
    {
     "name": "stdout",
     "output_type": "stream",
     "text": [
      "[I 2025-06-25 21:25:53,225] Trial 33 finished with value: 0.9001297037033436 and parameters: {'alpha': 0.3366627214468089, 'solver': 'sparse_cg', 'class_weight': 'balanced', 'fit_intercept': True, 'random_state': 42}. Best is trial 15 with value: 0.9005799201535603.\n"
     ]
    },
    {
     "name": "stderr",
     "output_type": "stream",
     "text": [
      "Best trial: 15. Best value: 0.90058:  35%|███▌      | 35/100 [08:36<22:08, 20.43s/it]"
     ]
    },
    {
     "name": "stdout",
     "output_type": "stream",
     "text": [
      "[I 2025-06-25 21:26:16,555] Trial 34 finished with value: 0.8977565505407169 and parameters: {'alpha': 0.5388518967151881, 'solver': 'sparse_cg', 'class_weight': 'balanced', 'fit_intercept': True, 'random_state': 42}. Best is trial 15 with value: 0.9005799201535603.\n"
     ]
    },
    {
     "name": "stderr",
     "output_type": "stream",
     "text": [
      "Best trial: 15. Best value: 0.90058:  36%|███▌      | 36/100 [08:41<17:07, 16.05s/it]"
     ]
    },
    {
     "name": "stdout",
     "output_type": "stream",
     "text": [
      "[I 2025-06-25 21:26:22,369] Trial 35 finished with value: 0.8968014499137897 and parameters: {'alpha': 2.318382289242775, 'solver': 'sparse_cg', 'class_weight': 'balanced', 'fit_intercept': True, 'random_state': 42}. Best is trial 15 with value: 0.9005799201535603.\n"
     ]
    },
    {
     "name": "stderr",
     "output_type": "stream",
     "text": [
      "Best trial: 15. Best value: 0.90058:  37%|███▋      | 37/100 [08:44<12:31, 11.92s/it]"
     ]
    },
    {
     "name": "stdout",
     "output_type": "stream",
     "text": [
      "[I 2025-06-25 21:26:24,669] Trial 36 finished with value: 0.8799539107637102 and parameters: {'alpha': 0.0011403900173233567, 'solver': 'cholesky', 'class_weight': 'balanced', 'fit_intercept': True, 'random_state': 42}. Best is trial 15 with value: 0.9005799201535603.\n"
     ]
    },
    {
     "name": "stderr",
     "output_type": "stream",
     "text": [
      "Best trial: 15. Best value: 0.90058:  38%|███▊      | 38/100 [08:59<13:16, 12.84s/it]"
     ]
    },
    {
     "name": "stdout",
     "output_type": "stream",
     "text": [
      "[I 2025-06-25 21:26:39,657] Trial 37 finished with value: 0.8935849921006739 and parameters: {'alpha': 0.07843501042349568, 'solver': 'sparse_cg', 'class_weight': 'balanced', 'fit_intercept': True, 'random_state': 42}. Best is trial 15 with value: 0.9005799201535603.\n"
     ]
    },
    {
     "name": "stderr",
     "output_type": "stream",
     "text": [
      "Best trial: 15. Best value: 0.90058:  39%|███▉      | 39/100 [09:03<10:29, 10.32s/it]"
     ]
    },
    {
     "name": "stdout",
     "output_type": "stream",
     "text": [
      "[I 2025-06-25 21:26:44,099] Trial 38 finished with value: 0.8994488500589783 and parameters: {'alpha': 0.157265361490131, 'solver': 'svd', 'class_weight': 'balanced', 'fit_intercept': False, 'random_state': 42}. Best is trial 15 with value: 0.9005799201535603.\n"
     ]
    },
    {
     "name": "stderr",
     "output_type": "stream",
     "text": [
      "Best trial: 15. Best value: 0.90058:  40%|████      | 40/100 [09:13<10:17, 10.29s/it]"
     ]
    },
    {
     "name": "stdout",
     "output_type": "stream",
     "text": [
      "[I 2025-06-25 21:26:54,327] Trial 39 finished with value: 0.8997431854596826 and parameters: {'alpha': 0.384895611436609, 'solver': 'sparse_cg', 'class_weight': 'balanced', 'fit_intercept': True, 'random_state': 42}. Best is trial 15 with value: 0.9005799201535603.\n"
     ]
    },
    {
     "name": "stderr",
     "output_type": "stream",
     "text": [
      "Best trial: 15. Best value: 0.90058:  41%|████      | 41/100 [09:22<09:40,  9.84s/it]"
     ]
    },
    {
     "name": "stdout",
     "output_type": "stream",
     "text": [
      "[I 2025-06-25 21:27:03,116] Trial 40 finished with value: 0.8970043526427871 and parameters: {'alpha': 0.9739890455883704, 'solver': 'svd', 'class_weight': 'balanced', 'fit_intercept': False, 'random_state': 42}. Best is trial 15 with value: 0.9005799201535603.\n"
     ]
    },
    {
     "name": "stderr",
     "output_type": "stream",
     "text": [
      "Best trial: 15. Best value: 0.90058:  42%|████▏     | 42/100 [09:45<13:14, 13.69s/it]"
     ]
    },
    {
     "name": "stdout",
     "output_type": "stream",
     "text": [
      "[I 2025-06-25 21:27:25,788] Trial 41 finished with value: 0.8998365682673513 and parameters: {'alpha': 0.27192454384778525, 'solver': 'sparse_cg', 'class_weight': 'balanced', 'fit_intercept': True, 'random_state': 42}. Best is trial 15 with value: 0.9005799201535603.\n"
     ]
    },
    {
     "name": "stderr",
     "output_type": "stream",
     "text": [
      "Best trial: 15. Best value: 0.90058:  43%|████▎     | 43/100 [10:04<14:40, 15.44s/it]"
     ]
    },
    {
     "name": "stdout",
     "output_type": "stream",
     "text": [
      "[I 2025-06-25 21:27:45,307] Trial 42 finished with value: 0.8966795493316944 and parameters: {'alpha': 0.11124898347535069, 'solver': 'sparse_cg', 'class_weight': 'balanced', 'fit_intercept': True, 'random_state': 42}. Best is trial 15 with value: 0.9005799201535603.\n"
     ]
    },
    {
     "name": "stderr",
     "output_type": "stream",
     "text": [
      "Best trial: 15. Best value: 0.90058:  44%|████▍     | 44/100 [10:13<12:23, 13.28s/it]"
     ]
    },
    {
     "name": "stdout",
     "output_type": "stream",
     "text": [
      "[I 2025-06-25 21:27:53,533] Trial 43 finished with value: 0.9000261082472493 and parameters: {'alpha': 0.5918787807917305, 'solver': 'sparse_cg', 'class_weight': 'balanced', 'fit_intercept': True, 'random_state': 42}. Best is trial 15 with value: 0.9005799201535603.\n"
     ]
    },
    {
     "name": "stderr",
     "output_type": "stream",
     "text": [
      "Best trial: 15. Best value: 0.90058:  45%|████▌     | 45/100 [10:21<10:54, 11.90s/it]"
     ]
    },
    {
     "name": "stdout",
     "output_type": "stream",
     "text": [
      "[I 2025-06-25 21:28:02,206] Trial 44 finished with value: 0.8988765258035493 and parameters: {'alpha': 0.5071313014253337, 'solver': 'sparse_cg', 'class_weight': 'balanced', 'fit_intercept': True, 'random_state': 42}. Best is trial 15 with value: 0.9005799201535603.\n"
     ]
    },
    {
     "name": "stderr",
     "output_type": "stream",
     "text": [
      "Best trial: 15. Best value: 0.90058:  46%|████▌     | 46/100 [10:28<09:11, 10.21s/it]"
     ]
    },
    {
     "name": "stdout",
     "output_type": "stream",
     "text": [
      "[I 2025-06-25 21:28:08,487] Trial 45 finished with value: 0.898174126895268 and parameters: {'alpha': 0.6553387992876597, 'solver': 'sparse_cg', 'class_weight': 'balanced', 'fit_intercept': True, 'random_state': 42}. Best is trial 15 with value: 0.9005799201535603.\n"
     ]
    },
    {
     "name": "stderr",
     "output_type": "stream",
     "text": [
      "Best trial: 15. Best value: 0.90058:  47%|████▋     | 47/100 [10:35<08:17,  9.38s/it]"
     ]
    },
    {
     "name": "stdout",
     "output_type": "stream",
     "text": [
      "[I 2025-06-25 21:28:15,939] Trial 46 finished with value: 0.897500617005482 and parameters: {'alpha': 1.129063047708749, 'solver': 'sparse_cg', 'class_weight': 'balanced', 'fit_intercept': False, 'random_state': 42}. Best is trial 15 with value: 0.9005799201535603.\n"
     ]
    },
    {
     "name": "stderr",
     "output_type": "stream",
     "text": [
      "Best trial: 15. Best value: 0.90058:  48%|████▊     | 48/100 [10:40<06:57,  8.04s/it]"
     ]
    },
    {
     "name": "stdout",
     "output_type": "stream",
     "text": [
      "[I 2025-06-25 21:28:20,827] Trial 47 finished with value: 0.8913461649412557 and parameters: {'alpha': 4.468387123716106, 'solver': 'svd', 'class_weight': 'balanced', 'fit_intercept': True, 'random_state': 42}. Best is trial 15 with value: 0.9005799201535603.\n"
     ]
    },
    {
     "name": "stderr",
     "output_type": "stream",
     "text": [
      "Best trial: 15. Best value: 0.90058:  49%|████▉     | 49/100 [10:47<06:38,  7.81s/it]"
     ]
    },
    {
     "name": "stdout",
     "output_type": "stream",
     "text": [
      "[I 2025-06-25 21:28:28,125] Trial 48 finished with value: 0.9001297037033436 and parameters: {'alpha': 0.3693185927918912, 'solver': 'sparse_cg', 'class_weight': 'balanced', 'fit_intercept': True, 'random_state': 42}. Best is trial 15 with value: 0.9005799201535603.\n"
     ]
    },
    {
     "name": "stderr",
     "output_type": "stream",
     "text": [
      "Best trial: 15. Best value: 0.90058:  50%|█████     | 50/100 [10:50<05:13,  6.28s/it]"
     ]
    },
    {
     "name": "stdout",
     "output_type": "stream",
     "text": [
      "[I 2025-06-25 21:28:30,814] Trial 49 finished with value: 0.8977854737036516 and parameters: {'alpha': 0.19488026931954558, 'solver': 'cholesky', 'class_weight': 'balanced', 'fit_intercept': False, 'random_state': 42}. Best is trial 15 with value: 0.9005799201535603.\n"
     ]
    },
    {
     "name": "stderr",
     "output_type": "stream",
     "text": [
      "Best trial: 15. Best value: 0.90058:  51%|█████     | 51/100 [10:58<05:37,  6.89s/it]"
     ]
    },
    {
     "name": "stdout",
     "output_type": "stream",
     "text": [
      "[I 2025-06-25 21:28:39,144] Trial 50 finished with value: 0.9001297037033436 and parameters: {'alpha': 0.36023731309420115, 'solver': 'sparse_cg', 'class_weight': 'balanced', 'fit_intercept': True, 'random_state': 42}. Best is trial 15 with value: 0.9005799201535603.\n"
     ]
    },
    {
     "name": "stderr",
     "output_type": "stream",
     "text": [
      "Best trial: 15. Best value: 0.90058:  52%|█████▏    | 52/100 [11:06<05:41,  7.12s/it]"
     ]
    },
    {
     "name": "stdout",
     "output_type": "stream",
     "text": [
      "[I 2025-06-25 21:28:46,814] Trial 51 finished with value: 0.9001297037033436 and parameters: {'alpha': 0.3448558767688076, 'solver': 'sparse_cg', 'class_weight': 'balanced', 'fit_intercept': True, 'random_state': 42}. Best is trial 15 with value: 0.9005799201535603.\n"
     ]
    },
    {
     "name": "stderr",
     "output_type": "stream",
     "text": [
      "Best trial: 15. Best value: 0.90058:  53%|█████▎    | 53/100 [11:21<07:21,  9.40s/it]"
     ]
    },
    {
     "name": "stdout",
     "output_type": "stream",
     "text": [
      "[I 2025-06-25 21:29:01,505] Trial 52 finished with value: 0.8954131966367702 and parameters: {'alpha': 0.10351668734004577, 'solver': 'sparse_cg', 'class_weight': 'balanced', 'fit_intercept': True, 'random_state': 42}. Best is trial 15 with value: 0.9005799201535603.\n"
     ]
    },
    {
     "name": "stderr",
     "output_type": "stream",
     "text": [
      "Best trial: 15. Best value: 0.90058:  54%|█████▍    | 54/100 [11:36<08:28, 11.06s/it]"
     ]
    },
    {
     "name": "stdout",
     "output_type": "stream",
     "text": [
      "[I 2025-06-25 21:29:16,450] Trial 53 finished with value: 0.9002725608462008 and parameters: {'alpha': 0.32371607974221867, 'solver': 'sparse_cg', 'class_weight': 'balanced', 'fit_intercept': True, 'random_state': 42}. Best is trial 15 with value: 0.9005799201535603.\n"
     ]
    },
    {
     "name": "stderr",
     "output_type": "stream",
     "text": [
      "Best trial: 15. Best value: 0.90058:  55%|█████▌    | 55/100 [11:55<10:06, 13.48s/it]"
     ]
    },
    {
     "name": "stdout",
     "output_type": "stream",
     "text": [
      "[I 2025-06-25 21:29:35,590] Trial 54 finished with value: 0.897351962819234 and parameters: {'alpha': 0.15530022272169913, 'solver': 'sparse_cg', 'class_weight': 'balanced', 'fit_intercept': True, 'random_state': 42}. Best is trial 15 with value: 0.9005799201535603.\n"
     ]
    },
    {
     "name": "stderr",
     "output_type": "stream",
     "text": [
      "Best trial: 15. Best value: 0.90058:  56%|█████▌    | 56/100 [12:16<11:38, 15.87s/it]"
     ]
    },
    {
     "name": "stdout",
     "output_type": "stream",
     "text": [
      "[I 2025-06-25 21:29:57,037] Trial 55 finished with value: 0.9002694687002514 and parameters: {'alpha': 0.28563746504939824, 'solver': 'sparse_cg', 'class_weight': 'balanced', 'fit_intercept': True, 'random_state': 42}. Best is trial 15 with value: 0.9005799201535603.\n"
     ]
    },
    {
     "name": "stderr",
     "output_type": "stream",
     "text": [
      "Best trial: 15. Best value: 0.90058:  57%|█████▋    | 57/100 [12:30<10:49, 15.11s/it]"
     ]
    },
    {
     "name": "stdout",
     "output_type": "stream",
     "text": [
      "[I 2025-06-25 21:30:10,385] Trial 56 finished with value: 0.899217375135553 and parameters: {'alpha': 0.22752189560591707, 'solver': 'sparse_cg', 'class_weight': 'balanced', 'fit_intercept': True, 'random_state': 42}. Best is trial 15 with value: 0.9005799201535603.\n"
     ]
    },
    {
     "name": "stderr",
     "output_type": "stream",
     "text": [
      "Best trial: 15. Best value: 0.90058:  58%|█████▊    | 58/100 [12:50<11:38, 16.62s/it]"
     ]
    },
    {
     "name": "stdout",
     "output_type": "stream",
     "text": [
      "[I 2025-06-25 21:30:30,531] Trial 57 finished with value: 0.892405356610114 and parameters: {'alpha': 0.06248232957977561, 'solver': 'sparse_cg', 'class_weight': 'balanced', 'fit_intercept': True, 'random_state': 42}. Best is trial 15 with value: 0.9005799201535603.\n"
     ]
    },
    {
     "name": "stderr",
     "output_type": "stream",
     "text": [
      "Best trial: 15. Best value: 0.90058:  59%|█████▉    | 59/100 [12:55<09:03, 13.26s/it]"
     ]
    },
    {
     "name": "stdout",
     "output_type": "stream",
     "text": [
      "[I 2025-06-25 21:30:35,958] Trial 58 finished with value: 0.8998251651537809 and parameters: {'alpha': 0.12410449277055158, 'solver': 'svd', 'class_weight': 'balanced', 'fit_intercept': True, 'random_state': 42}. Best is trial 15 with value: 0.9005799201535603.\n"
     ]
    },
    {
     "name": "stderr",
     "output_type": "stream",
     "text": [
      "Best trial: 15. Best value: 0.90058:  60%|██████    | 60/100 [13:08<08:45, 13.14s/it]"
     ]
    },
    {
     "name": "stdout",
     "output_type": "stream",
     "text": [
      "[I 2025-06-25 21:30:48,797] Trial 59 finished with value: 0.8978005112976366 and parameters: {'alpha': 0.1874183469732719, 'solver': 'sparse_cg', 'class_weight': 'balanced', 'fit_intercept': True, 'random_state': 42}. Best is trial 15 with value: 0.9005799201535603.\n"
     ]
    },
    {
     "name": "stderr",
     "output_type": "stream",
     "text": [
      "Best trial: 15. Best value: 0.90058:  61%|██████    | 61/100 [13:14<07:08, 11.00s/it]"
     ]
    },
    {
     "name": "stdout",
     "output_type": "stream",
     "text": [
      "[I 2025-06-25 21:30:54,807] Trial 60 finished with value: 0.8976600302984646 and parameters: {'alpha': 0.7944504728665422, 'solver': 'sparse_cg', 'class_weight': 'balanced', 'fit_intercept': False, 'random_state': 42}. Best is trial 15 with value: 0.9005799201535603.\n"
     ]
    },
    {
     "name": "stderr",
     "output_type": "stream",
     "text": [
      "Best trial: 15. Best value: 0.90058:  62%|██████▏   | 62/100 [13:26<07:10, 11.33s/it]"
     ]
    },
    {
     "name": "stdout",
     "output_type": "stream",
     "text": [
      "[I 2025-06-25 21:31:06,903] Trial 61 finished with value: 0.9002725608462008 and parameters: {'alpha': 0.3176712844507295, 'solver': 'sparse_cg', 'class_weight': 'balanced', 'fit_intercept': True, 'random_state': 42}. Best is trial 15 with value: 0.9005799201535603.\n"
     ]
    },
    {
     "name": "stderr",
     "output_type": "stream",
     "text": [
      "Best trial: 15. Best value: 0.90058:  63%|██████▎   | 63/100 [13:42<07:48, 12.67s/it]"
     ]
    },
    {
     "name": "stdout",
     "output_type": "stream",
     "text": [
      "[I 2025-06-25 21:31:22,696] Trial 62 finished with value: 0.8988051685893348 and parameters: {'alpha': 0.4895683615582761, 'solver': 'sparse_cg', 'class_weight': 'balanced', 'fit_intercept': True, 'random_state': 42}. Best is trial 15 with value: 0.9005799201535603.\n"
     ]
    },
    {
     "name": "stderr",
     "output_type": "stream",
     "text": [
      "Best trial: 15. Best value: 0.90058:  64%|██████▍   | 64/100 [13:51<06:54, 11.52s/it]"
     ]
    },
    {
     "name": "stdout",
     "output_type": "stream",
     "text": [
      "[I 2025-06-25 21:31:31,523] Trial 63 finished with value: 0.8998365682673513 and parameters: {'alpha': 0.2766065072211277, 'solver': 'sparse_cg', 'class_weight': 'balanced', 'fit_intercept': True, 'random_state': 42}. Best is trial 15 with value: 0.9005799201535603.\n"
     ]
    },
    {
     "name": "stderr",
     "output_type": "stream",
     "text": [
      "Best trial: 15. Best value: 0.90058:  65%|██████▌   | 65/100 [13:58<05:58, 10.26s/it]"
     ]
    },
    {
     "name": "stdout",
     "output_type": "stream",
     "text": [
      "[I 2025-06-25 21:31:38,845] Trial 64 finished with value: 0.9002725608462008 and parameters: {'alpha': 0.3052651978088248, 'solver': 'sparse_cg', 'class_weight': 'balanced', 'fit_intercept': True, 'random_state': 42}. Best is trial 15 with value: 0.9005799201535603.\n"
     ]
    },
    {
     "name": "stderr",
     "output_type": "stream",
     "text": [
      "Best trial: 15. Best value: 0.90058:  66%|██████▌   | 66/100 [14:09<05:56, 10.48s/it]"
     ]
    },
    {
     "name": "stdout",
     "output_type": "stream",
     "text": [
      "[I 2025-06-25 21:31:49,835] Trial 65 finished with value: 0.8978005112976366 and parameters: {'alpha': 0.17518632552772326, 'solver': 'sparse_cg', 'class_weight': 'balanced', 'fit_intercept': True, 'random_state': 42}. Best is trial 15 with value: 0.9005799201535603.\n"
     ]
    },
    {
     "name": "stderr",
     "output_type": "stream",
     "text": [
      "Best trial: 15. Best value: 0.90058:  67%|██████▋   | 67/100 [14:11<04:25,  8.04s/it]"
     ]
    },
    {
     "name": "stdout",
     "output_type": "stream",
     "text": [
      "[I 2025-06-25 21:31:52,194] Trial 66 finished with value: 0.894016552603663 and parameters: {'alpha': 0.09045012728730491, 'solver': 'cholesky', 'class_weight': 'balanced', 'fit_intercept': True, 'random_state': 42}. Best is trial 15 with value: 0.9005799201535603.\n"
     ]
    },
    {
     "name": "stderr",
     "output_type": "stream",
     "text": [
      "Best trial: 15. Best value: 0.90058:  68%|██████▊   | 68/100 [14:18<04:02,  7.59s/it]"
     ]
    },
    {
     "name": "stdout",
     "output_type": "stream",
     "text": [
      "[I 2025-06-25 21:31:58,736] Trial 67 finished with value: 0.8985433668989617 and parameters: {'alpha': 0.4558164073691765, 'solver': 'sparse_cg', 'class_weight': 'balanced', 'fit_intercept': True, 'random_state': 42}. Best is trial 15 with value: 0.9005799201535603.\n"
     ]
    },
    {
     "name": "stderr",
     "output_type": "stream",
     "text": [
      "Best trial: 15. Best value: 0.90058:  69%|██████▉   | 69/100 [14:51<07:51, 15.22s/it]"
     ]
    },
    {
     "name": "stdout",
     "output_type": "stream",
     "text": [
      "[I 2025-06-25 21:32:31,774] Trial 68 finished with value: 0.8833689181849096 and parameters: {'alpha': 0.011679374244649364, 'solver': 'sparse_cg', 'class_weight': 'balanced', 'fit_intercept': True, 'random_state': 42}. Best is trial 15 with value: 0.9005799201535603.\n"
     ]
    },
    {
     "name": "stderr",
     "output_type": "stream",
     "text": [
      "Best trial: 15. Best value: 0.90058:  70%|███████   | 70/100 [15:22<09:59, 19.98s/it]"
     ]
    },
    {
     "name": "stdout",
     "output_type": "stream",
     "text": [
      "[I 2025-06-25 21:33:02,842] Trial 69 finished with value: 0.8924502267235379 and parameters: {'alpha': 0.04309131345547838, 'solver': 'sparse_cg', 'class_weight': 'balanced', 'fit_intercept': True, 'random_state': 42}. Best is trial 15 with value: 0.9005799201535603.\n"
     ]
    },
    {
     "name": "stderr",
     "output_type": "stream",
     "text": [
      "Best trial: 15. Best value: 0.90058:  71%|███████   | 71/100 [15:30<07:53, 16.31s/it]"
     ]
    },
    {
     "name": "stdout",
     "output_type": "stream",
     "text": [
      "[I 2025-06-25 21:33:10,603] Trial 70 finished with value: 0.8998365682673513 and parameters: {'alpha': 0.26467655172792925, 'solver': 'sparse_cg', 'class_weight': 'balanced', 'fit_intercept': True, 'random_state': 42}. Best is trial 15 with value: 0.9005799201535603.\n"
     ]
    },
    {
     "name": "stderr",
     "output_type": "stream",
     "text": [
      "Best trial: 15. Best value: 0.90058:  72%|███████▏  | 72/100 [15:37<06:18, 13.51s/it]"
     ]
    },
    {
     "name": "stdout",
     "output_type": "stream",
     "text": [
      "[I 2025-06-25 21:33:17,584] Trial 71 finished with value: 0.9002725608462008 and parameters: {'alpha': 0.3106088265900508, 'solver': 'sparse_cg', 'class_weight': 'balanced', 'fit_intercept': True, 'random_state': 42}. Best is trial 15 with value: 0.9005799201535603.\n"
     ]
    },
    {
     "name": "stderr",
     "output_type": "stream",
     "text": [
      "Best trial: 15. Best value: 0.90058:  73%|███████▎  | 73/100 [15:41<04:50, 10.76s/it]"
     ]
    },
    {
     "name": "stdout",
     "output_type": "stream",
     "text": [
      "[I 2025-06-25 21:33:21,914] Trial 72 finished with value: 0.8977691735509072 and parameters: {'alpha': 1.1572089086921464, 'solver': 'sparse_cg', 'class_weight': 'balanced', 'fit_intercept': True, 'random_state': 42}. Best is trial 15 with value: 0.9005799201535603.\n"
     ]
    },
    {
     "name": "stderr",
     "output_type": "stream",
     "text": [
      "Best trial: 15. Best value: 0.90058:  74%|███████▍  | 74/100 [15:49<04:14,  9.79s/it]"
     ]
    },
    {
     "name": "stdout",
     "output_type": "stream",
     "text": [
      "[I 2025-06-25 21:33:29,442] Trial 73 finished with value: 0.9002694687002514 and parameters: {'alpha': 0.2847419877252233, 'solver': 'sparse_cg', 'class_weight': 'balanced', 'fit_intercept': True, 'random_state': 42}. Best is trial 15 with value: 0.9005799201535603.\n"
     ]
    },
    {
     "name": "stderr",
     "output_type": "stream",
     "text": [
      "Best trial: 15. Best value: 0.90058:  75%|███████▌  | 75/100 [15:58<04:01,  9.68s/it]"
     ]
    },
    {
     "name": "stdout",
     "output_type": "stream",
     "text": [
      "[I 2025-06-25 21:33:38,859] Trial 74 finished with value: 0.8995045096188397 and parameters: {'alpha': 0.13904698729069898, 'solver': 'sparse_cg', 'class_weight': 'balanced', 'fit_intercept': True, 'random_state': 42}. Best is trial 15 with value: 0.9005799201535603.\n"
     ]
    },
    {
     "name": "stderr",
     "output_type": "stream",
     "text": [
      "Best trial: 15. Best value: 0.90058:  76%|███████▌  | 76/100 [16:04<03:22,  8.46s/it]"
     ]
    },
    {
     "name": "stdout",
     "output_type": "stream",
     "text": [
      "[I 2025-06-25 21:33:44,469] Trial 75 finished with value: 0.8991172374728323 and parameters: {'alpha': 0.44191655424168386, 'solver': 'sparse_cg', 'class_weight': 'balanced', 'fit_intercept': True, 'random_state': 42}. Best is trial 15 with value: 0.9005799201535603.\n"
     ]
    },
    {
     "name": "stderr",
     "output_type": "stream",
     "text": [
      "Best trial: 15. Best value: 0.90058:  77%|███████▋  | 77/100 [16:11<03:07,  8.17s/it]"
     ]
    },
    {
     "name": "stdout",
     "output_type": "stream",
     "text": [
      "[I 2025-06-25 21:33:51,974] Trial 76 finished with value: 0.8985494716105066 and parameters: {'alpha': 0.20950049481805577, 'solver': 'sparse_cg', 'class_weight': 'balanced', 'fit_intercept': True, 'random_state': 42}. Best is trial 15 with value: 0.9005799201535603.\n"
     ]
    },
    {
     "name": "stderr",
     "output_type": "stream",
     "text": [
      "Best trial: 15. Best value: 0.90058:  78%|███████▊  | 78/100 [16:15<02:29,  6.80s/it]"
     ]
    },
    {
     "name": "stdout",
     "output_type": "stream",
     "text": [
      "[I 2025-06-25 21:33:55,584] Trial 77 finished with value: 0.8985828134468117 and parameters: {'alpha': 0.7501536884856329, 'solver': 'svd', 'class_weight': 'balanced', 'fit_intercept': True, 'random_state': 42}. Best is trial 15 with value: 0.9005799201535603.\n"
     ]
    },
    {
     "name": "stderr",
     "output_type": "stream",
     "text": [
      "Best trial: 15. Best value: 0.90058:  79%|███████▉  | 79/100 [16:17<01:54,  5.46s/it]"
     ]
    },
    {
     "name": "stdout",
     "output_type": "stream",
     "text": [
      "[I 2025-06-25 21:33:57,910] Trial 78 finished with value: 0.8995499177710589 and parameters: {'alpha': 0.5932150223249486, 'solver': 'cholesky', 'class_weight': 'balanced', 'fit_intercept': True, 'random_state': 42}. Best is trial 15 with value: 0.9005799201535603.\n"
     ]
    },
    {
     "name": "stderr",
     "output_type": "stream",
     "text": [
      "Best trial: 15. Best value: 0.90058:  80%|████████  | 80/100 [16:22<01:44,  5.22s/it]"
     ]
    },
    {
     "name": "stdout",
     "output_type": "stream",
     "text": [
      "[I 2025-06-25 21:34:02,578] Trial 79 finished with value: 0.9002725608462008 and parameters: {'alpha': 0.325270357653178, 'solver': 'sparse_cg', 'class_weight': 'balanced', 'fit_intercept': False, 'random_state': 42}. Best is trial 15 with value: 0.9005799201535603.\n"
     ]
    },
    {
     "name": "stderr",
     "output_type": "stream",
     "text": [
      "Best trial: 15. Best value: 0.90058:  81%|████████  | 81/100 [16:25<01:29,  4.69s/it]"
     ]
    },
    {
     "name": "stdout",
     "output_type": "stream",
     "text": [
      "[I 2025-06-25 21:34:06,035] Trial 80 finished with value: 0.8978546927788414 and parameters: {'alpha': 0.9038739126556184, 'solver': 'sparse_cg', 'class_weight': 'balanced', 'fit_intercept': False, 'random_state': 42}. Best is trial 15 with value: 0.9005799201535603.\n"
     ]
    },
    {
     "name": "stderr",
     "output_type": "stream",
     "text": [
      "Best trial: 15. Best value: 0.90058:  82%|████████▏ | 82/100 [16:30<01:23,  4.62s/it]"
     ]
    },
    {
     "name": "stdout",
     "output_type": "stream",
     "text": [
      "[I 2025-06-25 21:34:10,491] Trial 81 finished with value: 0.9001297037033436 and parameters: {'alpha': 0.33190358490871535, 'solver': 'sparse_cg', 'class_weight': 'balanced', 'fit_intercept': False, 'random_state': 42}. Best is trial 15 with value: 0.9005799201535603.\n"
     ]
    },
    {
     "name": "stderr",
     "output_type": "stream",
     "text": [
      "Best trial: 15. Best value: 0.90058:  83%|████████▎ | 83/100 [16:35<01:22,  4.88s/it]"
     ]
    },
    {
     "name": "stdout",
     "output_type": "stream",
     "text": [
      "[I 2025-06-25 21:34:15,972] Trial 82 finished with value: 0.8997815280694539 and parameters: {'alpha': 0.22173723500929052, 'solver': 'sparse_cg', 'class_weight': 'balanced', 'fit_intercept': False, 'random_state': 42}. Best is trial 15 with value: 0.9005799201535603.\n"
     ]
    },
    {
     "name": "stderr",
     "output_type": "stream",
     "text": [
      "Best trial: 15. Best value: 0.90058:  84%|████████▍ | 84/100 [16:40<01:16,  4.77s/it]"
     ]
    },
    {
     "name": "stdout",
     "output_type": "stream",
     "text": [
      "[I 2025-06-25 21:34:20,473] Trial 83 finished with value: 0.8990498604054553 and parameters: {'alpha': 0.43403068169580933, 'solver': 'sparse_cg', 'class_weight': 'balanced', 'fit_intercept': False, 'random_state': 42}. Best is trial 15 with value: 0.9005799201535603.\n"
     ]
    },
    {
     "name": "stderr",
     "output_type": "stream",
     "text": [
      "Best trial: 15. Best value: 0.90058:  85%|████████▌ | 85/100 [16:50<01:35,  6.36s/it]"
     ]
    },
    {
     "name": "stdout",
     "output_type": "stream",
     "text": [
      "[I 2025-06-25 21:34:30,556] Trial 84 finished with value: 0.8998396604133003 and parameters: {'alpha': 0.30354151835080234, 'solver': 'sparse_cg', 'class_weight': 'balanced', 'fit_intercept': False, 'random_state': 42}. Best is trial 15 with value: 0.9005799201535603.\n"
     ]
    },
    {
     "name": "stderr",
     "output_type": "stream",
     "text": [
      "Best trial: 15. Best value: 0.90058:  86%|████████▌ | 86/100 [17:07<02:16,  9.78s/it]"
     ]
    },
    {
     "name": "stdout",
     "output_type": "stream",
     "text": [
      "[I 2025-06-25 21:34:48,311] Trial 85 finished with value: 0.8979522514195226 and parameters: {'alpha': 0.1608066175491998, 'solver': 'sparse_cg', 'class_weight': 'balanced', 'fit_intercept': True, 'random_state': 42}. Best is trial 15 with value: 0.9005799201535603.\n"
     ]
    },
    {
     "name": "stderr",
     "output_type": "stream",
     "text": [
      "Best trial: 15. Best value: 0.90058:  87%|████████▋ | 87/100 [17:21<02:23, 11.01s/it]"
     ]
    },
    {
     "name": "stdout",
     "output_type": "stream",
     "text": [
      "[I 2025-06-25 21:35:02,177] Trial 86 finished with value: 0.898012549198308 and parameters: {'alpha': 0.11896674778507525, 'solver': 'sparse_cg', 'class_weight': 'balanced', 'fit_intercept': True, 'random_state': 42}. Best is trial 15 with value: 0.9005799201535603.\n"
     ]
    },
    {
     "name": "stderr",
     "output_type": "stream",
     "text": [
      "Best trial: 15. Best value: 0.90058:  88%|████████▊ | 88/100 [17:34<02:17, 11.42s/it]"
     ]
    },
    {
     "name": "stdout",
     "output_type": "stream",
     "text": [
      "[I 2025-06-25 21:35:14,564] Trial 87 finished with value: 0.8997815280694539 and parameters: {'alpha': 0.22649173183048846, 'solver': 'sparse_cg', 'class_weight': 'balanced', 'fit_intercept': False, 'random_state': 42}. Best is trial 15 with value: 0.9005799201535603.\n"
     ]
    },
    {
     "name": "stderr",
     "output_type": "stream",
     "text": [
      "Best trial: 15. Best value: 0.90058:  89%|████████▉ | 89/100 [17:45<02:06, 11.51s/it]"
     ]
    },
    {
     "name": "stdout",
     "output_type": "stream",
     "text": [
      "[I 2025-06-25 21:35:26,284] Trial 88 finished with value: 0.8991702022484862 and parameters: {'alpha': 0.6186251325595937, 'solver': 'sparse_cg', 'class_weight': 'balanced', 'fit_intercept': True, 'random_state': 42}. Best is trial 15 with value: 0.9005799201535603.\n"
     ]
    },
    {
     "name": "stderr",
     "output_type": "stream",
     "text": [
      "Best trial: 15. Best value: 0.90058:  90%|█████████ | 90/100 [18:03<02:12, 13.23s/it]"
     ]
    },
    {
     "name": "stdout",
     "output_type": "stream",
     "text": [
      "[I 2025-06-25 21:35:43,537] Trial 89 finished with value: 0.9005799201535603 and parameters: {'alpha': 0.23838273724298967, 'solver': 'sparse_cg', 'class_weight': 'balanced', 'fit_intercept': True, 'random_state': 42}. Best is trial 15 with value: 0.9005799201535603.\n"
     ]
    },
    {
     "name": "stderr",
     "output_type": "stream",
     "text": [
      "Best trial: 15. Best value: 0.90058:  91%|█████████ | 91/100 [18:22<02:15, 15.06s/it]"
     ]
    },
    {
     "name": "stdout",
     "output_type": "stream",
     "text": [
      "[I 2025-06-25 21:36:02,868] Trial 90 finished with value: 0.8931238076268844 and parameters: {'alpha': 0.06942814239759429, 'solver': 'sparse_cg', 'class_weight': 'balanced', 'fit_intercept': True, 'random_state': 42}. Best is trial 15 with value: 0.9005799201535603.\n"
     ]
    },
    {
     "name": "stderr",
     "output_type": "stream",
     "text": [
      "Best trial: 15. Best value: 0.90058:  92%|█████████▏| 92/100 [18:30<01:44, 13.02s/it]"
     ]
    },
    {
     "name": "stdout",
     "output_type": "stream",
     "text": [
      "[I 2025-06-25 21:36:11,137] Trial 91 finished with value: 0.8995323011059412 and parameters: {'alpha': 0.37758893220748707, 'solver': 'sparse_cg', 'class_weight': 'balanced', 'fit_intercept': True, 'random_state': 42}. Best is trial 15 with value: 0.9005799201535603.\n"
     ]
    },
    {
     "name": "stderr",
     "output_type": "stream",
     "text": [
      "Best trial: 15. Best value: 0.90058:  93%|█████████▎| 93/100 [18:41<01:26, 12.29s/it]"
     ]
    },
    {
     "name": "stdout",
     "output_type": "stream",
     "text": [
      "[I 2025-06-25 21:36:21,729] Trial 92 finished with value: 0.8978005112976366 and parameters: {'alpha': 0.18277456116359736, 'solver': 'sparse_cg', 'class_weight': 'balanced', 'fit_intercept': True, 'random_state': 42}. Best is trial 15 with value: 0.9005799201535603.\n"
     ]
    },
    {
     "name": "stderr",
     "output_type": "stream",
     "text": [
      "Best trial: 15. Best value: 0.90058:  94%|█████████▍| 94/100 [18:58<01:23, 13.86s/it]"
     ]
    },
    {
     "name": "stdout",
     "output_type": "stream",
     "text": [
      "[I 2025-06-25 21:36:39,231] Trial 93 finished with value: 0.9005799201535603 and parameters: {'alpha': 0.24900493121346126, 'solver': 'sparse_cg', 'class_weight': 'balanced', 'fit_intercept': True, 'random_state': 42}. Best is trial 15 with value: 0.9005799201535603.\n"
     ]
    },
    {
     "name": "stderr",
     "output_type": "stream",
     "text": [
      "Best trial: 15. Best value: 0.90058:  95%|█████████▌| 95/100 [19:16<01:14, 14.96s/it]"
     ]
    },
    {
     "name": "stdout",
     "output_type": "stream",
     "text": [
      "[I 2025-06-25 21:36:56,754] Trial 94 finished with value: 0.9005799201535603 and parameters: {'alpha': 0.24643361151919066, 'solver': 'sparse_cg', 'class_weight': 'balanced', 'fit_intercept': True, 'random_state': 42}. Best is trial 15 with value: 0.9005799201535603.\n"
     ]
    },
    {
     "name": "stderr",
     "output_type": "stream",
     "text": [
      "Best trial: 15. Best value: 0.90058:  96%|█████████▌| 96/100 [19:22<00:49, 12.41s/it]"
     ]
    },
    {
     "name": "stdout",
     "output_type": "stream",
     "text": [
      "[I 2025-06-25 21:37:03,227] Trial 95 finished with value: 0.8995564576707876 and parameters: {'alpha': 0.13783836754226494, 'solver': 'svd', 'class_weight': 'balanced', 'fit_intercept': True, 'random_state': 42}. Best is trial 15 with value: 0.9005799201535603.\n"
     ]
    },
    {
     "name": "stderr",
     "output_type": "stream",
     "text": [
      "Best trial: 15. Best value: 0.90058:  97%|█████████▋| 97/100 [19:45<00:46, 15.35s/it]"
     ]
    },
    {
     "name": "stdout",
     "output_type": "stream",
     "text": [
      "[I 2025-06-25 21:37:25,427] Trial 96 finished with value: 0.9005799201535603 and parameters: {'alpha': 0.2392328508683173, 'solver': 'sparse_cg', 'class_weight': 'balanced', 'fit_intercept': True, 'random_state': 42}. Best is trial 15 with value: 0.9005799201535603.\n"
     ]
    },
    {
     "name": "stderr",
     "output_type": "stream",
     "text": [
      "Best trial: 15. Best value: 0.90058:  98%|█████████▊| 98/100 [19:49<00:23, 11.97s/it]"
     ]
    },
    {
     "name": "stdout",
     "output_type": "stream",
     "text": [
      "[I 2025-06-25 21:37:29,500] Trial 97 finished with value: 0.8947560484019824 and parameters: {'alpha': 0.10196494674689713, 'solver': 'cholesky', 'class_weight': 'balanced', 'fit_intercept': True, 'random_state': 42}. Best is trial 15 with value: 0.9005799201535603.\n"
     ]
    },
    {
     "name": "stderr",
     "output_type": "stream",
     "text": [
      "Best trial: 15. Best value: 0.90058:  99%|█████████▉| 99/100 [20:31<00:21, 21.19s/it]"
     ]
    },
    {
     "name": "stdout",
     "output_type": "stream",
     "text": [
      "[I 2025-06-25 21:38:12,234] Trial 98 finished with value: 0.9005799201535603 and parameters: {'alpha': 0.24054298675097616, 'solver': 'sparse_cg', 'class_weight': 'balanced', 'fit_intercept': True, 'random_state': 42}. Best is trial 15 with value: 0.9005799201535603.\n"
     ]
    },
    {
     "name": "stderr",
     "output_type": "stream",
     "text": [
      "Best trial: 15. Best value: 0.90058: 100%|██████████| 100/100 [21:07<00:00, 12.67s/it]"
     ]
    },
    {
     "name": "stdout",
     "output_type": "stream",
     "text": [
      "[I 2025-06-25 21:38:47,614] Trial 99 finished with value: 0.8985494716105066 and parameters: {'alpha': 0.20915902877500023, 'solver': 'sparse_cg', 'class_weight': 'balanced', 'fit_intercept': True, 'random_state': 42}. Best is trial 15 with value: 0.9005799201535603.\n",
      "Best trial:\n",
      "  Macro F1: 0.9006\n"
     ]
    },
    {
     "name": "stderr",
     "output_type": "stream",
     "text": [
      "\n"
     ]
    }
   ],
   "source": [
    "def ridge_objective(trial, X, y, cv_method):\n",
    "    params = {\n",
    "        'alpha': trial.suggest_float('alpha', 1e-3, 5, log=True),\n",
    "        'solver': trial.suggest_categorical('solver', ['svd', 'cholesky', 'sparse_cg']),\n",
    "        'class_weight': trial.suggest_categorical('class_weight', ['balanced']),\n",
    "        'fit_intercept': trial.suggest_categorical('fit_intercept', [True, False]),\n",
    "        'random_state': trial.suggest_categorical('random_state', [CONFIG['RANDOM_STATE']])\n",
    "    }\n",
    "    \n",
    "    model = RidgeClassifier(**params)\n",
    "\n",
    "    fold_scores = []\n",
    "    for train_idx, valid_idx in cv_method.split(X, y):\n",
    "        X_train, y_train = X[train_idx], y[train_idx]\n",
    "        X_valid, y_valid = X[valid_idx], y[valid_idx]\n",
    "\n",
    "        model.fit(X_train, y_train)\n",
    "        y_pred = model.predict(X_valid)\n",
    "        fold_scores.append(f1_score(y_valid, y_pred, average=\"macro\"))\n",
    "    \n",
    "    return np.mean(fold_scores)\n",
    "\n",
    "def optimize_ridge(X, y, n_trials=50):\n",
    "    study = optuna.create_study(\n",
    "        direction='maximize'\n",
    "    )\n",
    "    \n",
    "    cv_method = StratifiedKFold(\n",
    "        n_splits=10,\n",
    "        shuffle=True,\n",
    "        random_state=CONFIG[\"RANDOM_STATE\"]\n",
    "    )\n",
    "    \n",
    "    study.optimize(\n",
    "        lambda trial: ridge_objective(trial, X, y, cv_method),\n",
    "        n_trials=n_trials,\n",
    "        show_progress_bar=True\n",
    "    )\n",
    "    \n",
    "    print(\"Best trial:\")\n",
    "    trial = study.best_trial\n",
    "    print(f\"  Macro F1: {trial.value:.4f}\")\n",
    "    \n",
    "    return study.best_params\n",
    "\n",
    "best_ridge_params = optimize_ridge(X, y, n_trials=100)"
   ]
  },
  {
   "cell_type": "code",
   "execution_count": 45,
   "id": "71c45df2",
   "metadata": {},
   "outputs": [
    {
     "name": "stderr",
     "output_type": "stream",
     "text": [
      "[I 2025-06-25 21:46:27,139] A new study created in memory with name: no-name-46cd7145-8b40-4028-bc2b-043dddef1ef4\n",
      "Best trial: 0. Best value: 0.859551:   1%|          | 1/100 [00:14<24:44, 14.99s/it]"
     ]
    },
    {
     "name": "stdout",
     "output_type": "stream",
     "text": [
      "[I 2025-06-25 21:46:42,128] Trial 0 finished with value: 0.8595507226568703 and parameters: {'C': 0.023994068319919824, 'class_weight': 'balanced', 'fit_intercept': True, 'max_iter': 1393, 'dual': True}. Best is trial 0 with value: 0.8595507226568703.\n"
     ]
    },
    {
     "name": "stderr",
     "output_type": "stream",
     "text": [
      "Best trial: 1. Best value: 0.900542:   2%|▏         | 2/100 [00:53<46:56, 28.74s/it]"
     ]
    },
    {
     "name": "stdout",
     "output_type": "stream",
     "text": [
      "[I 2025-06-25 21:47:20,497] Trial 1 finished with value: 0.9005421758009398 and parameters: {'C': 0.9208203813204336, 'class_weight': 'balanced', 'fit_intercept': False, 'max_iter': 2310, 'dual': True}. Best is trial 1 with value: 0.9005421758009398.\n"
     ]
    },
    {
     "name": "stderr",
     "output_type": "stream",
     "text": [
      "Best trial: 1. Best value: 0.900542:   3%|▎         | 3/100 [01:38<58:51, 36.40s/it]"
     ]
    },
    {
     "name": "stdout",
     "output_type": "stream",
     "text": [
      "[I 2025-06-25 21:48:06,012] Trial 2 finished with value: 0.8341765521077772 and parameters: {'C': 0.01131695430577534, 'class_weight': 'balanced', 'fit_intercept': False, 'max_iter': 1498, 'dual': False}. Best is trial 1 with value: 0.9005421758009398.\n"
     ]
    },
    {
     "name": "stderr",
     "output_type": "stream",
     "text": [
      "Best trial: 3. Best value: 0.902627:   4%|▍         | 4/100 [02:12<56:41, 35.43s/it]"
     ]
    },
    {
     "name": "stdout",
     "output_type": "stream",
     "text": [
      "[I 2025-06-25 21:48:39,948] Trial 3 finished with value: 0.9026265041378977 and parameters: {'C': 0.23659883944278204, 'class_weight': 'balanced', 'fit_intercept': False, 'max_iter': 2847, 'dual': False}. Best is trial 3 with value: 0.9026265041378977.\n"
     ]
    },
    {
     "name": "stderr",
     "output_type": "stream",
     "text": [
      "Best trial: 3. Best value: 0.902627:   5%|▌         | 5/100 [03:00<1:03:11, 39.91s/it]"
     ]
    },
    {
     "name": "stdout",
     "output_type": "stream",
     "text": [
      "[I 2025-06-25 21:49:27,794] Trial 4 finished with value: 0.8999189265695235 and parameters: {'C': 1.317449723797302, 'class_weight': 'balanced', 'fit_intercept': False, 'max_iter': 4811, 'dual': True}. Best is trial 3 with value: 0.9026265041378977.\n"
     ]
    },
    {
     "name": "stderr",
     "output_type": "stream",
     "text": [
      "Best trial: 5. Best value: 0.903802:   6%|▌         | 6/100 [03:36<1:00:29, 38.61s/it]"
     ]
    },
    {
     "name": "stdout",
     "output_type": "stream",
     "text": [
      "[I 2025-06-25 21:50:03,894] Trial 5 finished with value: 0.9038020919077974 and parameters: {'C': 0.4642089319555602, 'class_weight': 'balanced', 'fit_intercept': True, 'max_iter': 4500, 'dual': True}. Best is trial 5 with value: 0.9038020919077974.\n"
     ]
    },
    {
     "name": "stderr",
     "output_type": "stream",
     "text": [
      "Best trial: 5. Best value: 0.903802:   7%|▋         | 7/100 [04:16<1:00:22, 38.96s/it]"
     ]
    },
    {
     "name": "stdout",
     "output_type": "stream",
     "text": [
      "[I 2025-06-25 21:50:43,563] Trial 6 finished with value: 0.8240211767936227 and parameters: {'C': 0.009863656363385992, 'class_weight': 'balanced', 'fit_intercept': True, 'max_iter': 3297, 'dual': False}. Best is trial 5 with value: 0.9038020919077974.\n"
     ]
    },
    {
     "name": "stderr",
     "output_type": "stream",
     "text": [
      "Best trial: 5. Best value: 0.903802:   8%|▊         | 8/100 [04:56<1:00:14, 39.29s/it]"
     ]
    },
    {
     "name": "stdout",
     "output_type": "stream",
     "text": [
      "[I 2025-06-25 21:51:23,563] Trial 7 finished with value: 0.8964813683294445 and parameters: {'C': 2.2283164333760617, 'class_weight': 'balanced', 'fit_intercept': False, 'max_iter': 1951, 'dual': True}. Best is trial 5 with value: 0.9038020919077974.\n"
     ]
    },
    {
     "name": "stderr",
     "output_type": "stream",
     "text": [
      "Best trial: 5. Best value: 0.903802:   9%|▉         | 9/100 [05:32<57:54, 38.18s/it]  "
     ]
    },
    {
     "name": "stdout",
     "output_type": "stream",
     "text": [
      "[I 2025-06-25 21:51:59,300] Trial 8 finished with value: 0.9027823063519949 and parameters: {'C': 0.630393197130413, 'class_weight': 'balanced', 'fit_intercept': True, 'max_iter': 3741, 'dual': True}. Best is trial 5 with value: 0.9038020919077974.\n"
     ]
    },
    {
     "name": "stderr",
     "output_type": "stream",
     "text": [
      "Best trial: 5. Best value: 0.903802:  10%|█         | 10/100 [05:53<49:32, 33.03s/it]"
     ]
    },
    {
     "name": "stdout",
     "output_type": "stream",
     "text": [
      "[I 2025-06-25 21:52:20,791] Trial 9 finished with value: 0.8952589134505372 and parameters: {'C': 0.10695544322889752, 'class_weight': 'balanced', 'fit_intercept': False, 'max_iter': 2677, 'dual': True}. Best is trial 5 with value: 0.9038020919077974.\n"
     ]
    },
    {
     "name": "stderr",
     "output_type": "stream",
     "text": [
      "Best trial: 5. Best value: 0.903802:  11%|█         | 11/100 [06:11<42:02, 28.34s/it]"
     ]
    },
    {
     "name": "stdout",
     "output_type": "stream",
     "text": [
      "[I 2025-06-25 21:52:38,516] Trial 10 finished with value: 0.6144013711325905 and parameters: {'C': 0.0013657106367893981, 'class_weight': 'balanced', 'fit_intercept': True, 'max_iter': 4745, 'dual': False}. Best is trial 5 with value: 0.9038020919077974.\n"
     ]
    },
    {
     "name": "stderr",
     "output_type": "stream",
     "text": [
      "Best trial: 5. Best value: 0.903802:  12%|█▏        | 12/100 [06:40<41:55, 28.58s/it]"
     ]
    },
    {
     "name": "stdout",
     "output_type": "stream",
     "text": [
      "[I 2025-06-25 21:53:07,637] Trial 11 finished with value: 0.9036577041318307 and parameters: {'C': 0.42347984937617794, 'class_weight': 'balanced', 'fit_intercept': True, 'max_iter': 3823, 'dual': True}. Best is trial 5 with value: 0.9038020919077974.\n"
     ]
    },
    {
     "name": "stderr",
     "output_type": "stream",
     "text": [
      "Best trial: 5. Best value: 0.903802:  13%|█▎        | 13/100 [07:32<51:32, 35.55s/it]"
     ]
    },
    {
     "name": "stdout",
     "output_type": "stream",
     "text": [
      "[I 2025-06-25 21:53:59,227] Trial 12 finished with value: 0.8957135503937804 and parameters: {'C': 8.647800684376298, 'class_weight': 'balanced', 'fit_intercept': True, 'max_iter': 4135, 'dual': True}. Best is trial 5 with value: 0.9038020919077974.\n"
     ]
    },
    {
     "name": "stderr",
     "output_type": "stream",
     "text": [
      "Best trial: 5. Best value: 0.903802:  14%|█▍        | 14/100 [07:52<44:15, 30.88s/it]"
     ]
    },
    {
     "name": "stdout",
     "output_type": "stream",
     "text": [
      "[I 2025-06-25 21:54:19,323] Trial 13 finished with value: 0.8996595082886547 and parameters: {'C': 0.21850351368776133, 'class_weight': 'balanced', 'fit_intercept': True, 'max_iter': 4085, 'dual': True}. Best is trial 5 with value: 0.9038020919077974.\n"
     ]
    },
    {
     "name": "stderr",
     "output_type": "stream",
     "text": [
      "Best trial: 5. Best value: 0.903802:  15%|█▌        | 15/100 [08:32<47:46, 33.73s/it]"
     ]
    },
    {
     "name": "stdout",
     "output_type": "stream",
     "text": [
      "[I 2025-06-25 21:54:59,646] Trial 14 finished with value: 0.8952559666295027 and parameters: {'C': 4.3688689236057145, 'class_weight': 'balanced', 'fit_intercept': True, 'max_iter': 3403, 'dual': True}. Best is trial 5 with value: 0.9038020919077974.\n"
     ]
    },
    {
     "name": "stderr",
     "output_type": "stream",
     "text": [
      "Best trial: 5. Best value: 0.903802:  16%|█▌        | 16/100 [08:48<39:34, 28.26s/it]"
     ]
    },
    {
     "name": "stdout",
     "output_type": "stream",
     "text": [
      "[I 2025-06-25 21:55:15,216] Trial 15 finished with value: 0.889602845873965 and parameters: {'C': 0.057905768550620955, 'class_weight': 'balanced', 'fit_intercept': True, 'max_iter': 537, 'dual': True}. Best is trial 5 with value: 0.9038020919077974.\n"
     ]
    },
    {
     "name": "stderr",
     "output_type": "stream",
     "text": [
      "Best trial: 5. Best value: 0.903802:  17%|█▋        | 17/100 [09:10<36:29, 26.38s/it]"
     ]
    },
    {
     "name": "stdout",
     "output_type": "stream",
     "text": [
      "[I 2025-06-25 21:55:37,208] Trial 16 finished with value: 0.9018400005321723 and parameters: {'C': 0.31761695501523957, 'class_weight': 'balanced', 'fit_intercept': True, 'max_iter': 4373, 'dual': True}. Best is trial 5 with value: 0.9038020919077974.\n"
     ]
    },
    {
     "name": "stderr",
     "output_type": "stream",
     "text": [
      "Best trial: 5. Best value: 0.903802:  18%|█▊        | 18/100 [09:26<31:49, 23.29s/it]"
     ]
    },
    {
     "name": "stdout",
     "output_type": "stream",
     "text": [
      "[I 2025-06-25 21:55:53,315] Trial 17 finished with value: 0.891576253418801 and parameters: {'C': 0.06717719748468697, 'class_weight': 'balanced', 'fit_intercept': True, 'max_iter': 3644, 'dual': True}. Best is trial 5 with value: 0.9038020919077974.\n"
     ]
    },
    {
     "name": "stderr",
     "output_type": "stream",
     "text": [
      "Best trial: 5. Best value: 0.903802:  19%|█▉        | 19/100 [09:49<31:37, 23.43s/it]"
     ]
    },
    {
     "name": "stdout",
     "output_type": "stream",
     "text": [
      "[I 2025-06-25 21:56:17,067] Trial 18 finished with value: 0.9019274006007754 and parameters: {'C': 0.5561802533718884, 'class_weight': 'balanced', 'fit_intercept': True, 'max_iter': 4995, 'dual': False}. Best is trial 5 with value: 0.9038020919077974.\n"
     ]
    },
    {
     "name": "stderr",
     "output_type": "stream",
     "text": [
      "Best trial: 5. Best value: 0.903802:  20%|██        | 20/100 [10:24<35:47, 26.84s/it]"
     ]
    },
    {
     "name": "stdout",
     "output_type": "stream",
     "text": [
      "[I 2025-06-25 21:56:51,857] Trial 19 finished with value: 0.8965722700318011 and parameters: {'C': 2.62686663729297, 'class_weight': 'balanced', 'fit_intercept': True, 'max_iter': 4325, 'dual': True}. Best is trial 5 with value: 0.9038020919077974.\n"
     ]
    },
    {
     "name": "stderr",
     "output_type": "stream",
     "text": [
      "Best trial: 5. Best value: 0.903802:  21%|██        | 21/100 [10:33<28:02, 21.30s/it]"
     ]
    },
    {
     "name": "stdout",
     "output_type": "stream",
     "text": [
      "[I 2025-06-25 21:57:00,224] Trial 20 finished with value: 0.6465624060092745 and parameters: {'C': 0.0018384628668291411, 'class_weight': 'balanced', 'fit_intercept': True, 'max_iter': 3051, 'dual': True}. Best is trial 5 with value: 0.9038020919077974.\n"
     ]
    },
    {
     "name": "stderr",
     "output_type": "stream",
     "text": [
      "Best trial: 5. Best value: 0.903802:  22%|██▏       | 22/100 [10:57<29:04, 22.36s/it]"
     ]
    },
    {
     "name": "stdout",
     "output_type": "stream",
     "text": [
      "[I 2025-06-25 21:57:25,073] Trial 21 finished with value: 0.9031337498071246 and parameters: {'C': 0.542910489906565, 'class_weight': 'balanced', 'fit_intercept': True, 'max_iter': 3560, 'dual': True}. Best is trial 5 with value: 0.9038020919077974.\n"
     ]
    },
    {
     "name": "stderr",
     "output_type": "stream",
     "text": [
      "Best trial: 5. Best value: 0.903802:  23%|██▎       | 23/100 [11:22<29:34, 23.04s/it]"
     ]
    },
    {
     "name": "stdout",
     "output_type": "stream",
     "text": [
      "[I 2025-06-25 21:57:49,701] Trial 22 finished with value: 0.8937558758718692 and parameters: {'C': 0.11698136528823931, 'class_weight': 'balanced', 'fit_intercept': True, 'max_iter': 3728, 'dual': True}. Best is trial 5 with value: 0.9038020919077974.\n"
     ]
    },
    {
     "name": "stderr",
     "output_type": "stream",
     "text": [
      "Best trial: 5. Best value: 0.903802:  24%|██▍       | 24/100 [11:48<30:21, 23.97s/it]"
     ]
    },
    {
     "name": "stdout",
     "output_type": "stream",
     "text": [
      "[I 2025-06-25 21:58:15,822] Trial 23 finished with value: 0.9032895009064846 and parameters: {'C': 0.4039406855082544, 'class_weight': 'balanced', 'fit_intercept': True, 'max_iter': 3992, 'dual': True}. Best is trial 5 with value: 0.9038020919077974.\n"
     ]
    },
    {
     "name": "stderr",
     "output_type": "stream",
     "text": [
      "Best trial: 5. Best value: 0.903802:  25%|██▌       | 25/100 [12:26<35:03, 28.04s/it]"
     ]
    },
    {
     "name": "stdout",
     "output_type": "stream",
     "text": [
      "[I 2025-06-25 21:58:53,384] Trial 24 finished with value: 0.8976711346788745 and parameters: {'C': 1.635419180633929, 'class_weight': 'balanced', 'fit_intercept': True, 'max_iter': 4503, 'dual': True}. Best is trial 5 with value: 0.9038020919077974.\n"
     ]
    },
    {
     "name": "stderr",
     "output_type": "stream",
     "text": [
      "Best trial: 5. Best value: 0.903802:  26%|██▌       | 26/100 [12:50<33:08, 26.87s/it]"
     ]
    },
    {
     "name": "stdout",
     "output_type": "stream",
     "text": [
      "[I 2025-06-25 21:59:17,525] Trial 25 finished with value: 0.9018400005321723 and parameters: {'C': 0.31049618253423883, 'class_weight': 'balanced', 'fit_intercept': True, 'max_iter': 3930, 'dual': True}. Best is trial 5 with value: 0.9038020919077974.\n"
     ]
    },
    {
     "name": "stderr",
     "output_type": "stream",
     "text": [
      "Best trial: 5. Best value: 0.903802:  27%|██▋       | 27/100 [13:24<35:23, 29.10s/it]"
     ]
    },
    {
     "name": "stdout",
     "output_type": "stream",
     "text": [
      "[I 2025-06-25 21:59:51,805] Trial 26 finished with value: 0.862955701431597 and parameters: {'C': 0.02524821746135432, 'class_weight': 'balanced', 'fit_intercept': True, 'max_iter': 4558, 'dual': False}. Best is trial 5 with value: 0.9038020919077974.\n"
     ]
    },
    {
     "name": "stderr",
     "output_type": "stream",
     "text": [
      "Best trial: 5. Best value: 0.903802:  28%|██▊       | 28/100 [13:43<31:03, 25.89s/it]"
     ]
    },
    {
     "name": "stdout",
     "output_type": "stream",
     "text": [
      "[I 2025-06-25 22:00:10,209] Trial 27 finished with value: 0.8986598701772346 and parameters: {'C': 0.15300845095422494, 'class_weight': 'balanced', 'fit_intercept': True, 'max_iter': 3201, 'dual': True}. Best is trial 5 with value: 0.9038020919077974.\n"
     ]
    },
    {
     "name": "stderr",
     "output_type": "stream",
     "text": [
      "Best trial: 5. Best value: 0.903802:  29%|██▉       | 29/100 [14:25<36:19, 30.70s/it]"
     ]
    },
    {
     "name": "stdout",
     "output_type": "stream",
     "text": [
      "[I 2025-06-25 22:00:52,144] Trial 28 finished with value: 0.8948083466785658 and parameters: {'C': 5.631356408448701, 'class_weight': 'balanced', 'fit_intercept': True, 'max_iter': 4053, 'dual': True}. Best is trial 5 with value: 0.9038020919077974.\n"
     ]
    },
    {
     "name": "stderr",
     "output_type": "stream",
     "text": [
      "Best trial: 5. Best value: 0.903802:  30%|███       | 30/100 [14:39<29:59, 25.71s/it]"
     ]
    },
    {
     "name": "stdout",
     "output_type": "stream",
     "text": [
      "[I 2025-06-25 22:01:06,214] Trial 29 finished with value: 0.8763462153601471 and parameters: {'C': 0.03986570544469427, 'class_weight': 'balanced', 'fit_intercept': True, 'max_iter': 2617, 'dual': True}. Best is trial 5 with value: 0.9038020919077974.\n"
     ]
    },
    {
     "name": "stderr",
     "output_type": "stream",
     "text": [
      "Best trial: 5. Best value: 0.903802:  31%|███       | 31/100 [15:13<32:25, 28.19s/it]"
     ]
    },
    {
     "name": "stdout",
     "output_type": "stream",
     "text": [
      "[I 2025-06-25 22:01:40,185] Trial 30 finished with value: 0.9006539725201822 and parameters: {'C': 1.20099115986244, 'class_weight': 'balanced', 'fit_intercept': True, 'max_iter': 4258, 'dual': True}. Best is trial 5 with value: 0.9038020919077974.\n"
     ]
    },
    {
     "name": "stderr",
     "output_type": "stream",
     "text": [
      "Best trial: 31. Best value: 0.904409:  32%|███▏      | 32/100 [15:46<33:43, 29.76s/it]"
     ]
    },
    {
     "name": "stdout",
     "output_type": "stream",
     "text": [
      "[I 2025-06-25 22:02:13,581] Trial 31 finished with value: 0.9044086678715162 and parameters: {'C': 0.513724142614831, 'class_weight': 'balanced', 'fit_intercept': True, 'max_iter': 3530, 'dual': True}. Best is trial 31 with value: 0.9044086678715162.\n"
     ]
    },
    {
     "name": "stderr",
     "output_type": "stream",
     "text": [
      "Best trial: 31. Best value: 0.904409:  33%|███▎      | 33/100 [16:19<34:16, 30.70s/it]"
     ]
    },
    {
     "name": "stdout",
     "output_type": "stream",
     "text": [
      "[I 2025-06-25 22:02:46,494] Trial 32 finished with value: 0.9019176999033546 and parameters: {'C': 0.6810325083542891, 'class_weight': 'balanced', 'fit_intercept': True, 'max_iter': 3915, 'dual': True}. Best is trial 31 with value: 0.9044086678715162.\n"
     ]
    },
    {
     "name": "stderr",
     "output_type": "stream",
     "text": [
      "Best trial: 31. Best value: 0.904409:  34%|███▍      | 34/100 [16:46<32:39, 29.69s/it]"
     ]
    },
    {
     "name": "stdout",
     "output_type": "stream",
     "text": [
      "[I 2025-06-25 22:03:13,821] Trial 33 finished with value: 0.9018400005321723 and parameters: {'C': 0.3088289124915238, 'class_weight': 'balanced', 'fit_intercept': True, 'max_iter': 3475, 'dual': True}. Best is trial 31 with value: 0.9044086678715162.\n"
     ]
    },
    {
     "name": "stderr",
     "output_type": "stream",
     "text": [
      "Best trial: 31. Best value: 0.904409:  35%|███▌      | 35/100 [17:32<37:27, 34.57s/it]"
     ]
    },
    {
     "name": "stdout",
     "output_type": "stream",
     "text": [
      "[I 2025-06-25 22:03:59,786] Trial 34 finished with value: 0.9010007514775605 and parameters: {'C': 0.9607284125192213, 'class_weight': 'balanced', 'fit_intercept': False, 'max_iter': 3100, 'dual': True}. Best is trial 31 with value: 0.9044086678715162.\n"
     ]
    },
    {
     "name": "stderr",
     "output_type": "stream",
     "text": [
      "Best trial: 31. Best value: 0.904409:  36%|███▌      | 36/100 [18:00<34:42, 32.53s/it]"
     ]
    },
    {
     "name": "stdout",
     "output_type": "stream",
     "text": [
      "[I 2025-06-25 22:04:27,567] Trial 35 finished with value: 0.8978562768714298 and parameters: {'C': 0.17438802135539974, 'class_weight': 'balanced', 'fit_intercept': False, 'max_iter': 4575, 'dual': False}. Best is trial 31 with value: 0.9044086678715162.\n"
     ]
    },
    {
     "name": "stderr",
     "output_type": "stream",
     "text": [
      "Best trial: 31. Best value: 0.904409:  37%|███▋      | 37/100 [18:30<33:18, 31.73s/it]"
     ]
    },
    {
     "name": "stdout",
     "output_type": "stream",
     "text": [
      "[I 2025-06-25 22:04:57,423] Trial 36 finished with value: 0.9035092811262648 and parameters: {'C': 0.4167525054787609, 'class_weight': 'balanced', 'fit_intercept': True, 'max_iter': 4977, 'dual': True}. Best is trial 31 with value: 0.9044086678715162.\n"
     ]
    },
    {
     "name": "stderr",
     "output_type": "stream",
     "text": [
      "Best trial: 31. Best value: 0.904409:  38%|███▊      | 38/100 [19:10<35:18, 34.17s/it]"
     ]
    },
    {
     "name": "stdout",
     "output_type": "stream",
     "text": [
      "[I 2025-06-25 22:05:37,274] Trial 37 finished with value: 0.8964813683294445 and parameters: {'C': 2.274521432597105, 'class_weight': 'balanced', 'fit_intercept': False, 'max_iter': 2240, 'dual': True}. Best is trial 31 with value: 0.9044086678715162.\n"
     ]
    },
    {
     "name": "stderr",
     "output_type": "stream",
     "text": [
      "Best trial: 31. Best value: 0.904409:  39%|███▉      | 39/100 [19:38<32:53, 32.36s/it]"
     ]
    },
    {
     "name": "stdout",
     "output_type": "stream",
     "text": [
      "[I 2025-06-25 22:06:05,393] Trial 38 finished with value: 0.8270698629347459 and parameters: {'C': 0.010257438411412384, 'class_weight': 'balanced', 'fit_intercept': True, 'max_iter': 4965, 'dual': False}. Best is trial 31 with value: 0.9044086678715162.\n"
     ]
    },
    {
     "name": "stderr",
     "output_type": "stream",
     "text": [
      "Best trial: 31. Best value: 0.904409:  40%|████      | 40/100 [20:10<32:13, 32.22s/it]"
     ]
    },
    {
     "name": "stdout",
     "output_type": "stream",
     "text": [
      "[I 2025-06-25 22:06:37,301] Trial 39 finished with value: 0.9027148285450209 and parameters: {'C': 0.8347033938004352, 'class_weight': 'balanced', 'fit_intercept': True, 'max_iter': 4711, 'dual': True}. Best is trial 31 with value: 0.9044086678715162.\n"
     ]
    },
    {
     "name": "stderr",
     "output_type": "stream",
     "text": [
      "Best trial: 31. Best value: 0.904409:  41%|████      | 41/100 [20:33<28:55, 29.41s/it]"
     ]
    },
    {
     "name": "stdout",
     "output_type": "stream",
     "text": [
      "[I 2025-06-25 22:07:00,147] Trial 40 finished with value: 0.8938571569437386 and parameters: {'C': 0.08927684381446008, 'class_weight': 'balanced', 'fit_intercept': False, 'max_iter': 727, 'dual': True}. Best is trial 31 with value: 0.9044086678715162.\n"
     ]
    },
    {
     "name": "stderr",
     "output_type": "stream",
     "text": [
      "Best trial: 31. Best value: 0.904409:  42%|████▏     | 42/100 [21:04<29:00, 30.00s/it]"
     ]
    },
    {
     "name": "stdout",
     "output_type": "stream",
     "text": [
      "[I 2025-06-25 22:07:31,540] Trial 41 finished with value: 0.9032895009064846 and parameters: {'C': 0.4020786976486044, 'class_weight': 'balanced', 'fit_intercept': True, 'max_iter': 3950, 'dual': True}. Best is trial 31 with value: 0.9044086678715162.\n"
     ]
    },
    {
     "name": "stderr",
     "output_type": "stream",
     "text": [
      "Best trial: 31. Best value: 0.904409:  43%|████▎     | 43/100 [21:38<29:47, 31.37s/it]"
     ]
    },
    {
     "name": "stdout",
     "output_type": "stream",
     "text": [
      "[I 2025-06-25 22:08:06,096] Trial 42 finished with value: 0.90374737636436 and parameters: {'C': 0.431410148324589, 'class_weight': 'balanced', 'fit_intercept': True, 'max_iter': 4768, 'dual': True}. Best is trial 31 with value: 0.9044086678715162.\n"
     ]
    },
    {
     "name": "stderr",
     "output_type": "stream",
     "text": [
      "Best trial: 31. Best value: 0.904409:  44%|████▍     | 44/100 [22:05<27:53, 29.88s/it]"
     ]
    },
    {
     "name": "stdout",
     "output_type": "stream",
     "text": [
      "[I 2025-06-25 22:08:32,502] Trial 43 finished with value: 0.899255604434623 and parameters: {'C': 0.19931372324614052, 'class_weight': 'balanced', 'fit_intercept': True, 'max_iter': 4811, 'dual': True}. Best is trial 31 with value: 0.9044086678715162.\n"
     ]
    },
    {
     "name": "stderr",
     "output_type": "stream",
     "text": [
      "Best trial: 31. Best value: 0.904409:  45%|████▌     | 45/100 [22:44<30:01, 32.75s/it]"
     ]
    },
    {
     "name": "stdout",
     "output_type": "stream",
     "text": [
      "[I 2025-06-25 22:09:11,958] Trial 44 finished with value: 0.8994430482289836 and parameters: {'C': 1.2686939768363248, 'class_weight': 'balanced', 'fit_intercept': True, 'max_iter': 4410, 'dual': True}. Best is trial 31 with value: 0.9044086678715162.\n"
     ]
    },
    {
     "name": "stderr",
     "output_type": "stream",
     "text": [
      "Best trial: 31. Best value: 0.904409:  46%|████▌     | 46/100 [23:21<30:25, 33.80s/it]"
     ]
    },
    {
     "name": "stdout",
     "output_type": "stream",
     "text": [
      "[I 2025-06-25 22:09:48,220] Trial 45 finished with value: 0.9041742407673412 and parameters: {'C': 0.4874913057819348, 'class_weight': 'balanced', 'fit_intercept': True, 'max_iter': 4713, 'dual': True}. Best is trial 31 with value: 0.9044086678715162.\n"
     ]
    },
    {
     "name": "stderr",
     "output_type": "stream",
     "text": [
      "Best trial: 31. Best value: 0.904409:  47%|████▋     | 47/100 [23:45<27:25, 31.05s/it]"
     ]
    },
    {
     "name": "stdout",
     "output_type": "stream",
     "text": [
      "[I 2025-06-25 22:10:12,839] Trial 46 finished with value: 0.8963645131466891 and parameters: {'C': 1.783067889191798, 'class_weight': 'balanced', 'fit_intercept': True, 'max_iter': 4209, 'dual': False}. Best is trial 31 with value: 0.9044086678715162.\n"
     ]
    },
    {
     "name": "stderr",
     "output_type": "stream",
     "text": [
      "Best trial: 31. Best value: 0.904409:  48%|████▊     | 48/100 [24:30<30:22, 35.04s/it]"
     ]
    },
    {
     "name": "stdout",
     "output_type": "stream",
     "text": [
      "[I 2025-06-25 22:10:57,193] Trial 47 finished with value: 0.8960227345807024 and parameters: {'C': 2.919901533871501, 'class_weight': 'balanced', 'fit_intercept': True, 'max_iter': 4548, 'dual': True}. Best is trial 31 with value: 0.9044086678715162.\n"
     ]
    },
    {
     "name": "stderr",
     "output_type": "stream",
     "text": [
      "Best trial: 31. Best value: 0.904409:  49%|████▉     | 49/100 [25:05<29:54, 35.19s/it]"
     ]
    },
    {
     "name": "stdout",
     "output_type": "stream",
     "text": [
      "[I 2025-06-25 22:11:32,740] Trial 48 finished with value: 0.9008523284719946 and parameters: {'C': 0.9992939674061234, 'class_weight': 'balanced', 'fit_intercept': False, 'max_iter': 2867, 'dual': True}. Best is trial 31 with value: 0.9044086678715162.\n"
     ]
    },
    {
     "name": "stderr",
     "output_type": "stream",
     "text": [
      "Best trial: 31. Best value: 0.904409:  50%|█████     | 50/100 [25:27<26:05, 31.30s/it]"
     ]
    },
    {
     "name": "stdout",
     "output_type": "stream",
     "text": [
      "[I 2025-06-25 22:11:54,973] Trial 49 finished with value: 0.9003036142441274 and parameters: {'C': 0.24790668176136985, 'class_weight': 'balanced', 'fit_intercept': True, 'max_iter': 4723, 'dual': True}. Best is trial 31 with value: 0.9044086678715162.\n"
     ]
    },
    {
     "name": "stderr",
     "output_type": "stream",
     "text": [
      "Best trial: 31. Best value: 0.904409:  51%|█████     | 51/100 [25:38<20:36, 25.23s/it]"
     ]
    },
    {
     "name": "stdout",
     "output_type": "stream",
     "text": [
      "[I 2025-06-25 22:12:06,036] Trial 50 finished with value: 0.7225814726236144 and parameters: {'C': 0.0034099706207386584, 'class_weight': 'balanced', 'fit_intercept': True, 'max_iter': 3765, 'dual': True}. Best is trial 31 with value: 0.9044086678715162.\n"
     ]
    },
    {
     "name": "stderr",
     "output_type": "stream",
     "text": [
      "Best trial: 31. Best value: 0.904409:  52%|█████▏    | 52/100 [26:11<21:53, 27.36s/it]"
     ]
    },
    {
     "name": "stdout",
     "output_type": "stream",
     "text": [
      "[I 2025-06-25 22:12:38,372] Trial 51 finished with value: 0.9041742407673412 and parameters: {'C': 0.48832044657750356, 'class_weight': 'balanced', 'fit_intercept': True, 'max_iter': 4901, 'dual': True}. Best is trial 31 with value: 0.9044086678715162.\n"
     ]
    },
    {
     "name": "stderr",
     "output_type": "stream",
     "text": [
      "Best trial: 31. Best value: 0.904409:  53%|█████▎    | 53/100 [26:47<23:27, 29.94s/it]"
     ]
    },
    {
     "name": "stdout",
     "output_type": "stream",
     "text": [
      "[I 2025-06-25 22:13:14,336] Trial 52 finished with value: 0.9026338833464289 and parameters: {'C': 0.6548147993990385, 'class_weight': 'balanced', 'fit_intercept': True, 'max_iter': 4724, 'dual': True}. Best is trial 31 with value: 0.9044086678715162.\n"
     ]
    },
    {
     "name": "stderr",
     "output_type": "stream",
     "text": [
      "Best trial: 31. Best value: 0.904409:  54%|█████▍    | 54/100 [27:22<24:14, 31.62s/it]"
     ]
    },
    {
     "name": "stdout",
     "output_type": "stream",
     "text": [
      "[I 2025-06-25 22:13:49,878] Trial 53 finished with value: 0.8986598701772346 and parameters: {'C': 0.14351107706832109, 'class_weight': 'balanced', 'fit_intercept': True, 'max_iter': 4258, 'dual': True}. Best is trial 31 with value: 0.9044086678715162.\n"
     ]
    },
    {
     "name": "stderr",
     "output_type": "stream",
     "text": [
      "Best trial: 31. Best value: 0.904409:  55%|█████▌    | 55/100 [28:05<26:11, 34.92s/it]"
     ]
    },
    {
     "name": "stdout",
     "output_type": "stream",
     "text": [
      "[I 2025-06-25 22:14:32,484] Trial 54 finished with value: 0.9041742407673412 and parameters: {'C': 0.48343752473646623, 'class_weight': 'balanced', 'fit_intercept': True, 'max_iter': 4821, 'dual': True}. Best is trial 31 with value: 0.9044086678715162.\n"
     ]
    },
    {
     "name": "stderr",
     "output_type": "stream",
     "text": [
      "Best trial: 31. Best value: 0.904409:  56%|█████▌    | 56/100 [28:40<25:40, 35.01s/it]"
     ]
    },
    {
     "name": "stdout",
     "output_type": "stream",
     "text": [
      "[I 2025-06-25 22:15:07,698] Trial 55 finished with value: 0.9044086678715162 and parameters: {'C': 0.5143289865117218, 'class_weight': 'balanced', 'fit_intercept': True, 'max_iter': 4785, 'dual': True}. Best is trial 31 with value: 0.9044086678715162.\n"
     ]
    },
    {
     "name": "stderr",
     "output_type": "stream",
     "text": [
      "Best trial: 31. Best value: 0.904409:  57%|█████▋    | 57/100 [29:07<23:16, 32.48s/it]"
     ]
    },
    {
     "name": "stdout",
     "output_type": "stream",
     "text": [
      "[I 2025-06-25 22:15:34,284] Trial 56 finished with value: 0.9022199961815177 and parameters: {'C': 0.2768690529757357, 'class_weight': 'balanced', 'fit_intercept': True, 'max_iter': 4887, 'dual': True}. Best is trial 31 with value: 0.9044086678715162.\n"
     ]
    },
    {
     "name": "stderr",
     "output_type": "stream",
     "text": [
      "Best trial: 31. Best value: 0.904409:  58%|█████▊    | 58/100 [29:37<22:22, 31.97s/it]"
     ]
    },
    {
     "name": "stdout",
     "output_type": "stream",
     "text": [
      "[I 2025-06-25 22:16:05,078] Trial 57 finished with value: 0.8953073313049277 and parameters: {'C': 3.726414766812301, 'class_weight': 'balanced', 'fit_intercept': True, 'max_iter': 4622, 'dual': False}. Best is trial 31 with value: 0.9044086678715162.\n"
     ]
    },
    {
     "name": "stderr",
     "output_type": "stream",
     "text": [
      "Best trial: 31. Best value: 0.904409:  59%|█████▉    | 59/100 [30:16<23:17, 34.08s/it]"
     ]
    },
    {
     "name": "stdout",
     "output_type": "stream",
     "text": [
      "[I 2025-06-25 22:16:44,059] Trial 58 finished with value: 0.9014746560191341 and parameters: {'C': 0.71293381210331, 'class_weight': 'balanced', 'fit_intercept': True, 'max_iter': 4412, 'dual': True}. Best is trial 31 with value: 0.9044086678715162.\n"
     ]
    },
    {
     "name": "stderr",
     "output_type": "stream",
     "text": [
      "Best trial: 31. Best value: 0.904409:  60%|██████    | 60/100 [30:51<22:48, 34.22s/it]"
     ]
    },
    {
     "name": "stdout",
     "output_type": "stream",
     "text": [
      "[I 2025-06-25 22:17:18,606] Trial 59 finished with value: 0.8984092299169697 and parameters: {'C': 1.5301719326816703, 'class_weight': 'balanced', 'fit_intercept': True, 'max_iter': 4436, 'dual': True}. Best is trial 31 with value: 0.9044086678715162.\n"
     ]
    },
    {
     "name": "stderr",
     "output_type": "stream",
     "text": [
      "Best trial: 31. Best value: 0.904409:  61%|██████    | 61/100 [31:09<19:08, 29.45s/it]"
     ]
    },
    {
     "name": "stdout",
     "output_type": "stream",
     "text": [
      "[I 2025-06-25 22:17:36,918] Trial 60 finished with value: 0.8932913899457464 and parameters: {'C': 0.08872321184981152, 'class_weight': 'balanced', 'fit_intercept': True, 'max_iter': 1578, 'dual': True}. Best is trial 31 with value: 0.9044086678715162.\n"
     ]
    },
    {
     "name": "stderr",
     "output_type": "stream",
     "text": [
      "Best trial: 31. Best value: 0.904409:  62%|██████▏   | 62/100 [31:36<18:07, 28.62s/it]"
     ]
    },
    {
     "name": "stdout",
     "output_type": "stream",
     "text": [
      "[I 2025-06-25 22:18:03,606] Trial 61 finished with value: 0.90374737636436 and parameters: {'C': 0.4518614484931687, 'class_weight': 'balanced', 'fit_intercept': True, 'max_iter': 4813, 'dual': True}. Best is trial 31 with value: 0.9044086678715162.\n"
     ]
    },
    {
     "name": "stderr",
     "output_type": "stream",
     "text": [
      "Best trial: 31. Best value: 0.904409:  63%|██████▎   | 63/100 [32:03<17:22, 28.18s/it]"
     ]
    },
    {
     "name": "stdout",
     "output_type": "stream",
     "text": [
      "[I 2025-06-25 22:18:30,748] Trial 62 finished with value: 0.9031337498071246 and parameters: {'C': 0.5351326064842475, 'class_weight': 'balanced', 'fit_intercept': True, 'max_iter': 4876, 'dual': True}. Best is trial 31 with value: 0.9044086678715162.\n"
     ]
    },
    {
     "name": "stderr",
     "output_type": "stream",
     "text": [
      "Best trial: 31. Best value: 0.904409:  64%|██████▍   | 64/100 [32:36<17:42, 29.52s/it]"
     ]
    },
    {
     "name": "stdout",
     "output_type": "stream",
     "text": [
      "[I 2025-06-25 22:19:03,417] Trial 63 finished with value: 0.901732144562337 and parameters: {'C': 0.9565162468653374, 'class_weight': 'balanced', 'fit_intercept': True, 'max_iter': 4642, 'dual': True}. Best is trial 31 with value: 0.9044086678715162.\n"
     ]
    },
    {
     "name": "stderr",
     "output_type": "stream",
     "text": [
      "Best trial: 31. Best value: 0.904409:  65%|██████▌   | 65/100 [33:00<16:21, 28.03s/it]"
     ]
    },
    {
     "name": "stdout",
     "output_type": "stream",
     "text": [
      "[I 2025-06-25 22:19:27,977] Trial 64 finished with value: 0.9037974374144211 and parameters: {'C': 0.3458622940188752, 'class_weight': 'balanced', 'fit_intercept': True, 'max_iter': 4141, 'dual': True}. Best is trial 31 with value: 0.9044086678715162.\n"
     ]
    },
    {
     "name": "stderr",
     "output_type": "stream",
     "text": [
      "Best trial: 31. Best value: 0.904409:  66%|██████▌   | 66/100 [33:23<14:58, 26.42s/it]"
     ]
    },
    {
     "name": "stdout",
     "output_type": "stream",
     "text": [
      "[I 2025-06-25 22:19:50,631] Trial 65 finished with value: 0.9001949040934004 and parameters: {'C': 0.24114469294163193, 'class_weight': 'balanced', 'fit_intercept': True, 'max_iter': 4113, 'dual': True}. Best is trial 31 with value: 0.9044086678715162.\n"
     ]
    },
    {
     "name": "stderr",
     "output_type": "stream",
     "text": [
      "Best trial: 31. Best value: 0.904409:  67%|██████▋   | 67/100 [33:47<14:07, 25.68s/it]"
     ]
    },
    {
     "name": "stdout",
     "output_type": "stream",
     "text": [
      "[I 2025-06-25 22:20:14,594] Trial 66 finished with value: 0.9019277198304179 and parameters: {'C': 0.3300784780944045, 'class_weight': 'balanced', 'fit_intercept': True, 'max_iter': 4342, 'dual': True}. Best is trial 31 with value: 0.9044086678715162.\n"
     ]
    },
    {
     "name": "stderr",
     "output_type": "stream",
     "text": [
      "Best trial: 31. Best value: 0.904409:  68%|██████▊   | 68/100 [34:07<12:46, 23.94s/it]"
     ]
    },
    {
     "name": "stdout",
     "output_type": "stream",
     "text": [
      "[I 2025-06-25 22:20:34,470] Trial 67 finished with value: 0.8981986857034452 and parameters: {'C': 0.1364886611214304, 'class_weight': 'balanced', 'fit_intercept': True, 'max_iter': 4179, 'dual': True}. Best is trial 31 with value: 0.9044086678715162.\n"
     ]
    },
    {
     "name": "stderr",
     "output_type": "stream",
     "text": [
      "Best trial: 31. Best value: 0.904409:  69%|██████▉   | 69/100 [34:35<12:58, 25.12s/it]"
     ]
    },
    {
     "name": "stdout",
     "output_type": "stream",
     "text": [
      "[I 2025-06-25 22:21:02,331] Trial 68 finished with value: 0.8998712763967076 and parameters: {'C': 0.5733762427773055, 'class_weight': 'balanced', 'fit_intercept': False, 'max_iter': 3352, 'dual': True}. Best is trial 31 with value: 0.9044086678715162.\n"
     ]
    },
    {
     "name": "stderr",
     "output_type": "stream",
     "text": [
      "Best trial: 31. Best value: 0.904409:  70%|███████   | 70/100 [35:01<12:47, 25.58s/it]"
     ]
    },
    {
     "name": "stdout",
     "output_type": "stream",
     "text": [
      "[I 2025-06-25 22:21:28,995] Trial 69 finished with value: 0.8881402608399513 and parameters: {'C': 0.05649098660291047, 'class_weight': 'balanced', 'fit_intercept': True, 'max_iter': 4495, 'dual': False}. Best is trial 31 with value: 0.9044086678715162.\n"
     ]
    },
    {
     "name": "stderr",
     "output_type": "stream",
     "text": [
      "Best trial: 31. Best value: 0.904409:  71%|███████   | 71/100 [35:42<14:36, 30.24s/it]"
     ]
    },
    {
     "name": "stdout",
     "output_type": "stream",
     "text": [
      "[I 2025-06-25 22:22:10,091] Trial 70 finished with value: 0.9026867613740966 and parameters: {'C': 0.7754618019286221, 'class_weight': 'balanced', 'fit_intercept': True, 'max_iter': 4947, 'dual': True}. Best is trial 31 with value: 0.9044086678715162.\n"
     ]
    },
    {
     "name": "stderr",
     "output_type": "stream",
     "text": [
      "Best trial: 31. Best value: 0.904409:  72%|███████▏  | 72/100 [36:09<13:39, 29.25s/it]"
     ]
    },
    {
     "name": "stdout",
     "output_type": "stream",
     "text": [
      "[I 2025-06-25 22:22:37,053] Trial 71 finished with value: 0.9032895009064846 and parameters: {'C': 0.3894099357770625, 'class_weight': 'balanced', 'fit_intercept': True, 'max_iter': 4752, 'dual': True}. Best is trial 31 with value: 0.9044086678715162.\n"
     ]
    },
    {
     "name": "stderr",
     "output_type": "stream",
     "text": [
      "Best trial: 31. Best value: 0.904409:  73%|███████▎  | 73/100 [36:42<13:37, 30.27s/it]"
     ]
    },
    {
     "name": "stdout",
     "output_type": "stream",
     "text": [
      "[I 2025-06-25 22:23:09,705] Trial 72 finished with value: 0.9044086678715162 and parameters: {'C': 0.5168788923875094, 'class_weight': 'balanced', 'fit_intercept': True, 'max_iter': 4631, 'dual': True}. Best is trial 31 with value: 0.9044086678715162.\n"
     ]
    },
    {
     "name": "stderr",
     "output_type": "stream",
     "text": [
      "Best trial: 31. Best value: 0.904409:  74%|███████▍  | 74/100 [37:05<12:13, 28.22s/it]"
     ]
    },
    {
     "name": "stdout",
     "output_type": "stream",
     "text": [
      "[I 2025-06-25 22:23:33,124] Trial 73 finished with value: 0.899255604434623 and parameters: {'C': 0.19018990170039066, 'class_weight': 'balanced', 'fit_intercept': True, 'max_iter': 4570, 'dual': True}. Best is trial 31 with value: 0.9044086678715162.\n"
     ]
    },
    {
     "name": "stderr",
     "output_type": "stream",
     "text": [
      "Best trial: 31. Best value: 0.904409:  75%|███████▌  | 75/100 [37:42<12:46, 30.64s/it]"
     ]
    },
    {
     "name": "stdout",
     "output_type": "stream",
     "text": [
      "[I 2025-06-25 22:24:09,432] Trial 74 finished with value: 0.8999541695220599 and parameters: {'C': 1.2165151790936768, 'class_weight': 'balanced', 'fit_intercept': True, 'max_iter': 3628, 'dual': True}. Best is trial 31 with value: 0.9044086678715162.\n"
     ]
    },
    {
     "name": "stderr",
     "output_type": "stream",
     "text": [
      "Best trial: 31. Best value: 0.904409:  76%|███████▌  | 76/100 [38:17<12:48, 32.03s/it]"
     ]
    },
    {
     "name": "stdout",
     "output_type": "stream",
     "text": [
      "[I 2025-06-25 22:24:44,692] Trial 75 finished with value: 0.902454193774185 and parameters: {'C': 0.5341423976240784, 'class_weight': 'balanced', 'fit_intercept': True, 'max_iter': 4999, 'dual': True}. Best is trial 31 with value: 0.9044086678715162.\n"
     ]
    },
    {
     "name": "stderr",
     "output_type": "stream",
     "text": [
      "Best trial: 31. Best value: 0.904409:  77%|███████▋  | 77/100 [38:43<11:33, 30.16s/it]"
     ]
    },
    {
     "name": "stdout",
     "output_type": "stream",
     "text": [
      "[I 2025-06-25 22:25:10,479] Trial 76 finished with value: 0.9019277198304179 and parameters: {'C': 0.32025526438250557, 'class_weight': 'balanced', 'fit_intercept': True, 'max_iter': 4317, 'dual': True}. Best is trial 31 with value: 0.9044086678715162.\n"
     ]
    },
    {
     "name": "stderr",
     "output_type": "stream",
     "text": [
      "Best trial: 31. Best value: 0.904409:  78%|███████▊  | 78/100 [39:20<11:48, 32.22s/it]"
     ]
    },
    {
     "name": "stdout",
     "output_type": "stream",
     "text": [
      "[I 2025-06-25 22:25:47,532] Trial 77 finished with value: 0.8963645131466891 and parameters: {'C': 1.8165791965374012, 'class_weight': 'balanced', 'fit_intercept': True, 'max_iter': 4654, 'dual': True}. Best is trial 31 with value: 0.9044086678715162.\n"
     ]
    },
    {
     "name": "stderr",
     "output_type": "stream",
     "text": [
      "Best trial: 31. Best value: 0.904409:  79%|███████▉  | 79/100 [39:52<11:15, 32.19s/it]"
     ]
    },
    {
     "name": "stdout",
     "output_type": "stream",
     "text": [
      "[I 2025-06-25 22:26:19,635] Trial 78 finished with value: 0.9026867613740966 and parameters: {'C': 0.8144746550627783, 'class_weight': 'balanced', 'fit_intercept': True, 'max_iter': 4067, 'dual': True}. Best is trial 31 with value: 0.9044086678715162.\n"
     ]
    },
    {
     "name": "stderr",
     "output_type": "stream",
     "text": [
      "Best trial: 31. Best value: 0.904409:  80%|████████  | 80/100 [40:16<09:56, 29.85s/it]"
     ]
    },
    {
     "name": "stdout",
     "output_type": "stream",
     "text": [
      "[I 2025-06-25 22:26:44,008] Trial 79 finished with value: 0.9014749763939329 and parameters: {'C': 0.21227051141737505, 'class_weight': 'balanced', 'fit_intercept': False, 'max_iter': 4555, 'dual': True}. Best is trial 31 with value: 0.9044086678715162.\n"
     ]
    },
    {
     "name": "stderr",
     "output_type": "stream",
     "text": [
      "Best trial: 31. Best value: 0.904409:  81%|████████  | 81/100 [40:55<10:17, 32.48s/it]"
     ]
    },
    {
     "name": "stdout",
     "output_type": "stream",
     "text": [
      "[I 2025-06-25 22:27:22,654] Trial 80 finished with value: 0.901801080638792 and parameters: {'C': 1.0695569621467946, 'class_weight': 'balanced', 'fit_intercept': True, 'max_iter': 4870, 'dual': True}. Best is trial 31 with value: 0.9044086678715162.\n"
     ]
    },
    {
     "name": "stderr",
     "output_type": "stream",
     "text": [
      "Best trial: 31. Best value: 0.904409:  82%|████████▏ | 82/100 [41:24<09:23, 31.31s/it]"
     ]
    },
    {
     "name": "stdout",
     "output_type": "stream",
     "text": [
      "[I 2025-06-25 22:27:51,239] Trial 81 finished with value: 0.90374737636436 and parameters: {'C': 0.4411951378277931, 'class_weight': 'balanced', 'fit_intercept': True, 'max_iter': 4794, 'dual': True}. Best is trial 31 with value: 0.9044086678715162.\n"
     ]
    },
    {
     "name": "stderr",
     "output_type": "stream",
     "text": [
      "Best trial: 31. Best value: 0.904409:  83%|████████▎ | 83/100 [41:58<09:08, 32.27s/it]"
     ]
    },
    {
     "name": "stdout",
     "output_type": "stream",
     "text": [
      "[I 2025-06-25 22:28:25,748] Trial 82 finished with value: 0.9044086678715162 and parameters: {'C': 0.5020282885664643, 'class_weight': 'balanced', 'fit_intercept': True, 'max_iter': 4432, 'dual': True}. Best is trial 31 with value: 0.9044086678715162.\n"
     ]
    },
    {
     "name": "stderr",
     "output_type": "stream",
     "text": [
      "Best trial: 31. Best value: 0.904409:  84%|████████▍ | 84/100 [42:38<09:14, 34.66s/it]"
     ]
    },
    {
     "name": "stdout",
     "output_type": "stream",
     "text": [
      "[I 2025-06-25 22:29:05,993] Trial 83 finished with value: 0.9030373590977308 and parameters: {'C': 0.5985221034790326, 'class_weight': 'balanced', 'fit_intercept': True, 'max_iter': 4431, 'dual': True}. Best is trial 31 with value: 0.9044086678715162.\n"
     ]
    },
    {
     "name": "stderr",
     "output_type": "stream",
     "text": [
      "Best trial: 31. Best value: 0.904409:  85%|████████▌ | 85/100 [43:10<08:24, 33.63s/it]"
     ]
    },
    {
     "name": "stdout",
     "output_type": "stream",
     "text": [
      "[I 2025-06-25 22:29:37,197] Trial 84 finished with value: 0.9037974374144211 and parameters: {'C': 0.34520359819562857, 'class_weight': 'balanced', 'fit_intercept': True, 'max_iter': 4290, 'dual': True}. Best is trial 31 with value: 0.9044086678715162.\n"
     ]
    },
    {
     "name": "stderr",
     "output_type": "stream",
     "text": [
      "Best trial: 31. Best value: 0.904409:  86%|████████▌ | 86/100 [43:33<07:09, 30.65s/it]"
     ]
    },
    {
     "name": "stdout",
     "output_type": "stream",
     "text": [
      "[I 2025-06-25 22:30:00,911] Trial 85 finished with value: 0.9013288397189327 and parameters: {'C': 0.273447098695032, 'class_weight': 'balanced', 'fit_intercept': True, 'max_iter': 3826, 'dual': True}. Best is trial 31 with value: 0.9044086678715162.\n"
     ]
    },
    {
     "name": "stderr",
     "output_type": "stream",
     "text": [
      "Best trial: 31. Best value: 0.904409:  87%|████████▋ | 87/100 [43:58<06:16, 28.97s/it]"
     ]
    },
    {
     "name": "stdout",
     "output_type": "stream",
     "text": [
      "[I 2025-06-25 22:30:25,953] Trial 86 finished with value: 0.9041742407673412 and parameters: {'C': 0.4841397358871252, 'class_weight': 'balanced', 'fit_intercept': True, 'max_iter': 4475, 'dual': False}. Best is trial 31 with value: 0.9044086678715162.\n"
     ]
    },
    {
     "name": "stderr",
     "output_type": "stream",
     "text": [
      "Best trial: 31. Best value: 0.904409:  88%|████████▊ | 88/100 [44:25<05:40, 28.37s/it]"
     ]
    },
    {
     "name": "stdout",
     "output_type": "stream",
     "text": [
      "[I 2025-06-25 22:30:52,916] Trial 87 finished with value: 0.9044086678715162 and parameters: {'C': 0.5042662058400128, 'class_weight': 'balanced', 'fit_intercept': True, 'max_iter': 4652, 'dual': False}. Best is trial 31 with value: 0.9044086678715162.\n"
     ]
    },
    {
     "name": "stderr",
     "output_type": "stream",
     "text": [
      "Best trial: 31. Best value: 0.904409:  89%|████████▉ | 89/100 [45:01<05:34, 30.45s/it]"
     ]
    },
    {
     "name": "stdout",
     "output_type": "stream",
     "text": [
      "[I 2025-06-25 22:31:28,220] Trial 88 finished with value: 0.9015627215483762 and parameters: {'C': 0.671802920769318, 'class_weight': 'balanced', 'fit_intercept': True, 'max_iter': 4660, 'dual': False}. Best is trial 31 with value: 0.9044086678715162.\n"
     ]
    },
    {
     "name": "stderr",
     "output_type": "stream",
     "text": [
      "Best trial: 31. Best value: 0.904409:  90%|█████████ | 90/100 [45:36<05:20, 32.03s/it]"
     ]
    },
    {
     "name": "stdout",
     "output_type": "stream",
     "text": [
      "[I 2025-06-25 22:32:03,940] Trial 89 finished with value: 0.9026412354714279 and parameters: {'C': 0.8845958014833931, 'class_weight': 'balanced', 'fit_intercept': True, 'max_iter': 2322, 'dual': False}. Best is trial 31 with value: 0.9044086678715162.\n"
     ]
    },
    {
     "name": "stderr",
     "output_type": "stream",
     "text": [
      "Best trial: 31. Best value: 0.904409:  91%|█████████ | 91/100 [46:05<04:39, 31.07s/it]"
     ]
    },
    {
     "name": "stdout",
     "output_type": "stream",
     "text": [
      "[I 2025-06-25 22:32:32,755] Trial 90 finished with value: 0.9041742407673412 and parameters: {'C': 0.4881058796124775, 'class_weight': 'balanced', 'fit_intercept': True, 'max_iter': 4491, 'dual': False}. Best is trial 31 with value: 0.9044086678715162.\n"
     ]
    },
    {
     "name": "stderr",
     "output_type": "stream",
     "text": [
      "Best trial: 31. Best value: 0.904409:  92%|█████████▏| 92/100 [46:38<04:12, 31.57s/it]"
     ]
    },
    {
     "name": "stdout",
     "output_type": "stream",
     "text": [
      "[I 2025-06-25 22:33:05,493] Trial 91 finished with value: 0.9040835378194954 and parameters: {'C': 0.4956404443989243, 'class_weight': 'balanced', 'fit_intercept': True, 'max_iter': 4477, 'dual': False}. Best is trial 31 with value: 0.9044086678715162.\n"
     ]
    },
    {
     "name": "stderr",
     "output_type": "stream",
     "text": [
      "Best trial: 31. Best value: 0.904409:  93%|█████████▎| 93/100 [47:08<03:37, 31.03s/it]"
     ]
    },
    {
     "name": "stdout",
     "output_type": "stream",
     "text": [
      "[I 2025-06-25 22:33:35,281] Trial 92 finished with value: 0.8990887859499093 and parameters: {'C': 1.4199656378060892, 'class_weight': 'balanced', 'fit_intercept': True, 'max_iter': 4880, 'dual': False}. Best is trial 31 with value: 0.9044086678715162.\n"
     ]
    },
    {
     "name": "stderr",
     "output_type": "stream",
     "text": [
      "Best trial: 31. Best value: 0.904409:  94%|█████████▍| 94/100 [47:35<03:00, 30.07s/it]"
     ]
    },
    {
     "name": "stdout",
     "output_type": "stream",
     "text": [
      "[I 2025-06-25 22:34:03,112] Trial 93 finished with value: 0.9026338833464289 and parameters: {'C': 0.6601727379808503, 'class_weight': 'balanced', 'fit_intercept': True, 'max_iter': 4646, 'dual': False}. Best is trial 31 with value: 0.9044086678715162.\n"
     ]
    },
    {
     "name": "stderr",
     "output_type": "stream",
     "text": [
      "Best trial: 31. Best value: 0.904409:  95%|█████████▌| 95/100 [48:02<02:25, 29.02s/it]"
     ]
    },
    {
     "name": "stdout",
     "output_type": "stream",
     "text": [
      "[I 2025-06-25 22:34:29,689] Trial 94 finished with value: 0.9001949040934004 and parameters: {'C': 0.23931882301583118, 'class_weight': 'balanced', 'fit_intercept': True, 'max_iter': 4769, 'dual': False}. Best is trial 31 with value: 0.9044086678715162.\n"
     ]
    },
    {
     "name": "stderr",
     "output_type": "stream",
     "text": [
      "Best trial: 31. Best value: 0.904409:  96%|█████████▌| 96/100 [48:33<01:57, 29.47s/it]"
     ]
    },
    {
     "name": "stdout",
     "output_type": "stream",
     "text": [
      "[I 2025-06-25 22:35:00,203] Trial 95 finished with value: 0.8987148152321798 and parameters: {'C': 0.16003908865375704, 'class_weight': 'balanced', 'fit_intercept': True, 'max_iter': 4532, 'dual': False}. Best is trial 31 with value: 0.9044086678715162.\n"
     ]
    },
    {
     "name": "stderr",
     "output_type": "stream",
     "text": [
      "Best trial: 31. Best value: 0.904409:  97%|█████████▋| 97/100 [49:00<01:26, 28.85s/it]"
     ]
    },
    {
     "name": "stdout",
     "output_type": "stream",
     "text": [
      "[I 2025-06-25 22:35:27,601] Trial 96 finished with value: 0.903601189218173 and parameters: {'C': 0.37449281630861275, 'class_weight': 'balanced', 'fit_intercept': True, 'max_iter': 4391, 'dual': False}. Best is trial 31 with value: 0.9044086678715162.\n"
     ]
    },
    {
     "name": "stderr",
     "output_type": "stream",
     "text": [
      "Best trial: 31. Best value: 0.904409:  98%|█████████▊| 98/100 [49:23<00:54, 27.05s/it]"
     ]
    },
    {
     "name": "stdout",
     "output_type": "stream",
     "text": [
      "[I 2025-06-25 22:35:50,457] Trial 97 finished with value: 0.9035275961445798 and parameters: {'C': 0.4517820524428648, 'class_weight': 'balanced', 'fit_intercept': False, 'max_iter': 4889, 'dual': False}. Best is trial 31 with value: 0.9044086678715162.\n"
     ]
    },
    {
     "name": "stderr",
     "output_type": "stream",
     "text": [
      "Best trial: 31. Best value: 0.904409:  99%|█████████▉| 99/100 [49:49<00:26, 26.77s/it]"
     ]
    },
    {
     "name": "stdout",
     "output_type": "stream",
     "text": [
      "[I 2025-06-25 22:36:16,574] Trial 98 finished with value: 0.9026867613740966 and parameters: {'C': 0.7719514374319031, 'class_weight': 'balanced', 'fit_intercept': True, 'max_iter': 4207, 'dual': False}. Best is trial 31 with value: 0.9044086678715162.\n"
     ]
    },
    {
     "name": "stderr",
     "output_type": "stream",
     "text": [
      "Best trial: 31. Best value: 0.904409: 100%|██████████| 100/100 [50:16<00:00, 30.17s/it]"
     ]
    },
    {
     "name": "stdout",
     "output_type": "stream",
     "text": [
      "[I 2025-06-25 22:36:44,078] Trial 99 finished with value: 0.9022199961815177 and parameters: {'C': 0.28044215886217616, 'class_weight': 'balanced', 'fit_intercept': True, 'max_iter': 4710, 'dual': False}. Best is trial 31 with value: 0.9044086678715162.\n",
      "Best trial:\n",
      "  Macro F1: 0.9044\n",
      "  Params:\n",
      "    C: 0.513724142614831\n",
      "    class_weight: balanced\n",
      "    fit_intercept: True\n",
      "    max_iter: 3530\n",
      "    dual: True\n"
     ]
    },
    {
     "name": "stderr",
     "output_type": "stream",
     "text": [
      "\n"
     ]
    }
   ],
   "source": [
    "def linear_svc_objective(trial, X, y, cv_method):\n",
    "    params = {\n",
    "        'C': trial.suggest_float('C', 1e-3, 10, log=True),\n",
    "        'class_weight': trial.suggest_categorical('class_weight', ['balanced']),\n",
    "        'fit_intercept': trial.suggest_categorical('fit_intercept', [True, False]),\n",
    "        'max_iter': trial.suggest_int('max_iter', 500, 5000),\n",
    "        'dual': trial.suggest_categorical('dual', [True, False]),\n",
    "        'random_state': CONFIG['RANDOM_STATE']\n",
    "    }\n",
    "    \n",
    "    model = LinearSVC(**params)\n",
    "\n",
    "    fold_scores = []\n",
    "    for train_idx, valid_idx in cv_method.split(X, y):\n",
    "        X_train, y_train = X[train_idx], y[train_idx]\n",
    "        X_valid, y_valid = X[valid_idx], y[valid_idx]\n",
    "\n",
    "        model.fit(X_train, y_train)\n",
    "        y_pred = model.predict(X_valid)\n",
    "        fold_scores.append(f1_score(y_valid, y_pred, average=\"macro\"))\n",
    "    \n",
    "    return np.mean(fold_scores)\n",
    "\n",
    "def optimize_linear_svc(X, y, n_trials=50):\n",
    "    study = optuna.create_study(direction='maximize')\n",
    "    \n",
    "    cv_method = StratifiedKFold(\n",
    "        n_splits=10,\n",
    "        shuffle=True,\n",
    "        random_state=CONFIG[\"RANDOM_STATE\"]\n",
    "    )\n",
    "    \n",
    "    study.optimize(\n",
    "        lambda trial: linear_svc_objective(trial, X, y, cv_method),\n",
    "        n_trials=n_trials,\n",
    "        show_progress_bar=True\n",
    "    )\n",
    "    \n",
    "    print(\"Best trial:\")\n",
    "    trial = study.best_trial\n",
    "    print(f\"  Macro F1: {trial.value:.4f}\")\n",
    "    print(\"  Params:\")\n",
    "    for k, v in trial.params.items():\n",
    "        print(f\"    {k}: {v}\")\n",
    "    \n",
    "    return trial.params\n",
    "\n",
    "best_linear_svc_params = optimize_linear_svc(X, y, n_trials=100)"
   ]
  },
  {
   "cell_type": "code",
   "execution_count": 57,
   "id": "5f7945ec",
   "metadata": {},
   "outputs": [
    {
     "name": "stdout",
     "output_type": "stream",
     "text": [
      "Name: FaceRecognition CV\n",
      "\n",
      "\n",
      "Fold 1/10\n",
      "----------------------------------------\n",
      "- RidgeClassifier:\n",
      "  macro_f1: 0.9091\n",
      "  macro_accuracy: 0.9221\n",
      "\n",
      "\n",
      "- LinearSVC:\n",
      "  macro_f1: 0.9039\n",
      "  macro_accuracy: 0.9181\n",
      "\n",
      "\n",
      "- Ridge+LinearSVC Stack:\n",
      "  macro_f1: 0.9039\n",
      "  macro_accuracy: 0.9181\n",
      "\n",
      "\n",
      "\n",
      "Fold 2/10\n",
      "----------------------------------------\n",
      "- RidgeClassifier:\n",
      "  macro_f1: 0.8890\n",
      "  macro_accuracy: 0.9086\n",
      "\n",
      "\n",
      "- LinearSVC:\n",
      "  macro_f1: 0.9226\n",
      "  macro_accuracy: 0.9231\n",
      "\n",
      "\n",
      "- Ridge+LinearSVC Stack:\n",
      "  macro_f1: 0.9226\n",
      "  macro_accuracy: 0.9231\n",
      "\n",
      "\n",
      "\n",
      "Fold 3/10\n",
      "----------------------------------------\n",
      "- RidgeClassifier:\n",
      "  macro_f1: 0.9184\n",
      "  macro_accuracy: 0.9321\n",
      "\n",
      "\n",
      "- LinearSVC:\n",
      "  macro_f1: 0.9216\n",
      "  macro_accuracy: 0.9380\n",
      "\n",
      "\n",
      "- Ridge+LinearSVC Stack:\n",
      "  macro_f1: 0.9216\n",
      "  macro_accuracy: 0.9380\n",
      "\n",
      "\n",
      "\n",
      "Fold 4/10\n",
      "----------------------------------------\n",
      "- RidgeClassifier:\n",
      "  macro_f1: 0.9203\n",
      "  macro_accuracy: 0.9224\n",
      "\n",
      "\n",
      "- LinearSVC:\n",
      "  macro_f1: 0.9053\n",
      "  macro_accuracy: 0.9200\n",
      "\n",
      "\n",
      "- Ridge+LinearSVC Stack:\n",
      "  macro_f1: 0.9053\n",
      "  macro_accuracy: 0.9200\n",
      "\n",
      "\n",
      "\n",
      "Fold 5/10\n",
      "----------------------------------------\n",
      "- RidgeClassifier:\n",
      "  macro_f1: 0.9383\n",
      "  macro_accuracy: 0.9417\n",
      "\n",
      "\n",
      "- LinearSVC:\n",
      "  macro_f1: 0.9389\n",
      "  macro_accuracy: 0.9417\n",
      "\n",
      "\n",
      "- Ridge+LinearSVC Stack:\n",
      "  macro_f1: 0.9389\n",
      "  macro_accuracy: 0.9417\n",
      "\n",
      "\n",
      "\n",
      "Fold 6/10\n",
      "----------------------------------------\n",
      "- RidgeClassifier:\n",
      "  macro_f1: 0.8705\n",
      "  macro_accuracy: 0.8918\n",
      "\n",
      "\n",
      "- LinearSVC:\n",
      "  macro_f1: 0.8696\n",
      "  macro_accuracy: 0.8922\n",
      "\n",
      "\n",
      "- Ridge+LinearSVC Stack:\n",
      "  macro_f1: 0.8696\n",
      "  macro_accuracy: 0.8922\n",
      "\n",
      "\n",
      "\n",
      "Fold 7/10\n",
      "----------------------------------------\n",
      "- RidgeClassifier:\n",
      "  macro_f1: 0.8844\n",
      "  macro_accuracy: 0.8858\n",
      "\n",
      "\n",
      "- LinearSVC:\n",
      "  macro_f1: 0.8919\n",
      "  macro_accuracy: 0.8877\n",
      "\n",
      "\n",
      "- Ridge+LinearSVC Stack:\n",
      "  macro_f1: 0.8919\n",
      "  macro_accuracy: 0.8877\n",
      "\n",
      "\n",
      "\n",
      "Fold 8/10\n",
      "----------------------------------------\n",
      "- RidgeClassifier:\n",
      "  macro_f1: 0.9198\n",
      "  macro_accuracy: 0.9320\n",
      "\n",
      "\n",
      "- LinearSVC:\n",
      "  macro_f1: 0.9180\n",
      "  macro_accuracy: 0.9333\n",
      "\n",
      "\n",
      "- Ridge+LinearSVC Stack:\n",
      "  macro_f1: 0.9180\n",
      "  macro_accuracy: 0.9333\n",
      "\n",
      "\n",
      "\n",
      "Fold 9/10\n",
      "----------------------------------------\n",
      "- RidgeClassifier:\n",
      "  macro_f1: 0.8395\n",
      "  macro_accuracy: 0.8419\n",
      "\n",
      "\n",
      "- LinearSVC:\n",
      "  macro_f1: 0.8511\n",
      "  macro_accuracy: 0.8550\n",
      "\n",
      "\n",
      "- Ridge+LinearSVC Stack:\n",
      "  macro_f1: 0.8511\n",
      "  macro_accuracy: 0.8550\n",
      "\n",
      "\n",
      "\n",
      "Fold 10/10\n",
      "----------------------------------------\n",
      "- RidgeClassifier:\n",
      "  macro_f1: 0.9166\n",
      "  macro_accuracy: 0.9300\n",
      "\n",
      "\n",
      "- LinearSVC:\n",
      "  macro_f1: 0.9212\n",
      "  macro_accuracy: 0.9244\n",
      "\n",
      "\n",
      "- Ridge+LinearSVC Stack:\n",
      "  macro_f1: 0.9212\n",
      "  macro_accuracy: 0.9244\n",
      "\n",
      "\n"
     ]
    }
   ],
   "source": [
    "op_models = [\n",
    "    (\"RidgeClassifier\", RidgeClassifier(**best_ridge_params)),\n",
    "    (\"LinearSVC\", LinearSVC(**best_linear_svc_params))\n",
    "]\n",
    "\n",
    "op_cv = CrossValidator(\n",
    "    models=op_models + [(\"Ridge+LinearSVC Stack\", VotingClassifier([*op_models], weights=[0.2, 0.8]))],\n",
    "    metric_fns=metric_fns,\n",
    "    cv_method=StratifiedKFold(\n",
    "        n_splits=10, shuffle=True, random_state=CONFIG[\"RANDOM_STATE\"]), \n",
    "    name=\"FaceRecognition CV\"\n",
    ")\n",
    "\n",
    "op_cv.fit(X, y)"
   ]
  },
  {
   "cell_type": "code",
   "execution_count": 58,
   "id": "3c8c718d",
   "metadata": {},
   "outputs": [
    {
     "name": "stdout",
     "output_type": "stream",
     "text": [
      "\n",
      "RidgeClassifier:\n",
      "  macro_f1: 0.9006 ± 0.0296\n",
      "  macro_accuracy: 0.9108 ± 0.0302\n",
      "\n",
      "LinearSVC:\n",
      "  macro_f1: 0.9044 ± 0.0269\n",
      "  macro_accuracy: 0.9133 ± 0.0271\n",
      "\n",
      "Ridge+LinearSVC Stack:\n",
      "  macro_f1: 0.9044 ± 0.0269\n",
      "  macro_accuracy: 0.9133 ± 0.0271\n"
     ]
    }
   ],
   "source": [
    "view_cv_summary(op_cv.summarize())"
   ]
  },
  {
   "cell_type": "markdown",
   "id": "aed8050b",
   "metadata": {},
   "source": [
    "# Predicting on Test set"
   ]
  },
  {
   "cell_type": "code",
   "execution_count": 39,
   "id": "e6f0342c",
   "metadata": {},
   "outputs": [
    {
     "name": "stderr",
     "output_type": "stream",
     "text": [
      "Processing Test Identites: 100%|██████████| 636/636 [03:44<00:00,  2.83it/s]\n"
     ]
    }
   ],
   "source": [
    "def create_test_data(test_dir, app, enhanced_embedding=False):\n",
    "    test_data = {\n",
    "        \"embedding\": [],\n",
    "        \"enhanced_embedding\": [],\n",
    "        \"norm_bbox\": [],\n",
    "        \"filenames\": []\n",
    "    }\n",
    "    \n",
    "    failed_samples = []\n",
    "    img_path = os.path.join(test_dir, \"images\")\n",
    "    for filename in tqdm(sorted(os.listdir(img_path)), desc=\"Processing Test Identites\"):\n",
    "        filepath = os.path.join(img_path, filename)\n",
    "        \n",
    "        img = cv2.imread(filepath)\n",
    "        faces = robust_face_detection(img, app, attempts=4)\n",
    "\n",
    "        if faces:\n",
    "            face = faces[0]\n",
    "            img_h, img_w = img.shape[:2]\n",
    "            bbox = face.bbox\n",
    "            norm_bbox = [\n",
    "                bbox[0]/img_w,\n",
    "                bbox[1]/img_h,\n",
    "                bbox[2]/img_w,\n",
    "                bbox[2]/img_h\n",
    "            ]\n",
    "            test_data['embedding'].append(\n",
    "                (face.embedding / np.linalg.norm(face.embedding))\n",
    "            )\n",
    "            test_data['enhanced_embedding'].append(\n",
    "                enhance_embedding(face.embedding, face)\n",
    "            )\n",
    "            test_data['norm_bbox'].append(norm_bbox)\n",
    "        else:\n",
    "            test_data['embedding'].append(np.zeros(512))\n",
    "            test_data['enhanced_embedding'].append(np.zeros(738))\n",
    "            test_data['norm_bbox'].append([-1.0, -1.0, -1.0, -1.0])\n",
    "            failed_samples.append((filepath))\n",
    "        test_data['filenames'].append(filename)\n",
    "\n",
    "    for key in test_data:\n",
    "        if key == 'filenames':\n",
    "            continue\n",
    "        test_data[key] = np.array(test_data[key])\n",
    "    \n",
    "    return test_data, failed_samples\n",
    "\n",
    "test_data, test_failed = create_test_data(test_dir, app, enhanced_embedding=CONFIG[\"ENHANCE_EMB\"])"
   ]
  },
  {
   "cell_type": "code",
   "execution_count": 40,
   "id": "354a041c",
   "metadata": {},
   "outputs": [
    {
     "data": {
      "text/plain": [
       "191"
      ]
     },
     "execution_count": 40,
     "metadata": {},
     "output_type": "execute_result"
    }
   ],
   "source": [
    "len(test_failed)"
   ]
  },
  {
   "cell_type": "code",
   "execution_count": 41,
   "id": "b8edea63",
   "metadata": {},
   "outputs": [
    {
     "data": {
      "text/plain": [
       "((636, 512), (636, 738))"
      ]
     },
     "execution_count": 41,
     "metadata": {},
     "output_type": "execute_result"
    }
   ],
   "source": [
    "test_data['embedding'].shape, test_data['enhanced_embedding'].shape"
   ]
  },
  {
   "cell_type": "code",
   "execution_count": 42,
   "id": "be3f5f48",
   "metadata": {},
   "outputs": [
    {
     "data": {
      "text/plain": [
       "(636, 742)"
      ]
     },
     "execution_count": 42,
     "metadata": {},
     "output_type": "execute_result"
    }
   ],
   "source": [
    "test_feats, _, test_metadata = create_feature_vectors(\n",
    "    test_data, scaler, weights=CONFIG[\"FEATURE_WEIGHTS\"], enhanced_embedding=CONFIG[\"ENHANCE_EMB\"], return_target=False\n",
    ")\n",
    "test_feats.shape"
   ]
  },
  {
   "cell_type": "code",
   "execution_count": 44,
   "id": "f1c7f4b1",
   "metadata": {},
   "outputs": [
    {
     "data": {
      "text/plain": [
       "array([19, 14, 16, 18,  2, 19, 14,  9, 18,  4, 14, 18,  1, 14, 18, 18, 18,\n",
       "        2, 16, 18])"
      ]
     },
     "execution_count": 44,
     "metadata": {},
     "output_type": "execute_result"
    }
   ],
   "source": [
    "ridge = RidgeClassifier(**best_ridge_params)\n",
    "ridge.fit(X, y)\n",
    "\n",
    "ridge_preds = ridge.predict(test_feats)\n",
    "ridge_preds[:20]"
   ]
  },
  {
   "cell_type": "code",
   "execution_count": 45,
   "id": "8d6eff7d",
   "metadata": {},
   "outputs": [
    {
     "data": {
      "text/html": [
       "<div>\n",
       "<style scoped>\n",
       "    .dataframe tbody tr th:only-of-type {\n",
       "        vertical-align: middle;\n",
       "    }\n",
       "\n",
       "    .dataframe tbody tr th {\n",
       "        vertical-align: top;\n",
       "    }\n",
       "\n",
       "    .dataframe thead th {\n",
       "        text-align: right;\n",
       "    }\n",
       "</style>\n",
       "<table border=\"1\" class=\"dataframe\">\n",
       "  <thead>\n",
       "    <tr style=\"text-align: right;\">\n",
       "      <th></th>\n",
       "      <th>filename</th>\n",
       "      <th>employee_id</th>\n",
       "    </tr>\n",
       "  </thead>\n",
       "  <tbody>\n",
       "    <tr>\n",
       "      <th>0</th>\n",
       "      <td>face_0002.jpg</td>\n",
       "      <td>emp019</td>\n",
       "    </tr>\n",
       "    <tr>\n",
       "      <th>1</th>\n",
       "      <td>face_0005.jpg</td>\n",
       "      <td>emp014</td>\n",
       "    </tr>\n",
       "    <tr>\n",
       "      <th>2</th>\n",
       "      <td>face_0009.jpg</td>\n",
       "      <td>emp016</td>\n",
       "    </tr>\n",
       "    <tr>\n",
       "      <th>3</th>\n",
       "      <td>face_0012.jpg</td>\n",
       "      <td>emp018</td>\n",
       "    </tr>\n",
       "    <tr>\n",
       "      <th>4</th>\n",
       "      <td>face_0014.jpg</td>\n",
       "      <td>emp002</td>\n",
       "    </tr>\n",
       "    <tr>\n",
       "      <th>5</th>\n",
       "      <td>face_0015.jpg</td>\n",
       "      <td>emp019</td>\n",
       "    </tr>\n",
       "    <tr>\n",
       "      <th>6</th>\n",
       "      <td>face_0017.jpg</td>\n",
       "      <td>emp014</td>\n",
       "    </tr>\n",
       "    <tr>\n",
       "      <th>7</th>\n",
       "      <td>face_0018.jpg</td>\n",
       "      <td>emp009</td>\n",
       "    </tr>\n",
       "    <tr>\n",
       "      <th>8</th>\n",
       "      <td>face_0020.jpg</td>\n",
       "      <td>emp018</td>\n",
       "    </tr>\n",
       "    <tr>\n",
       "      <th>9</th>\n",
       "      <td>face_0021.jpg</td>\n",
       "      <td>emp004</td>\n",
       "    </tr>\n",
       "    <tr>\n",
       "      <th>10</th>\n",
       "      <td>face_0022.jpg</td>\n",
       "      <td>emp014</td>\n",
       "    </tr>\n",
       "    <tr>\n",
       "      <th>11</th>\n",
       "      <td>face_0023.jpg</td>\n",
       "      <td>emp018</td>\n",
       "    </tr>\n",
       "    <tr>\n",
       "      <th>12</th>\n",
       "      <td>face_0027.jpg</td>\n",
       "      <td>emp001</td>\n",
       "    </tr>\n",
       "    <tr>\n",
       "      <th>13</th>\n",
       "      <td>face_0029.jpg</td>\n",
       "      <td>emp014</td>\n",
       "    </tr>\n",
       "    <tr>\n",
       "      <th>14</th>\n",
       "      <td>face_0035.jpg</td>\n",
       "      <td>emp018</td>\n",
       "    </tr>\n",
       "  </tbody>\n",
       "</table>\n",
       "</div>"
      ],
      "text/plain": [
       "         filename employee_id\n",
       "0   face_0002.jpg      emp019\n",
       "1   face_0005.jpg      emp014\n",
       "2   face_0009.jpg      emp016\n",
       "3   face_0012.jpg      emp018\n",
       "4   face_0014.jpg      emp002\n",
       "5   face_0015.jpg      emp019\n",
       "6   face_0017.jpg      emp014\n",
       "7   face_0018.jpg      emp009\n",
       "8   face_0020.jpg      emp018\n",
       "9   face_0021.jpg      emp004\n",
       "10  face_0022.jpg      emp014\n",
       "11  face_0023.jpg      emp018\n",
       "12  face_0027.jpg      emp001\n",
       "13  face_0029.jpg      emp014\n",
       "14  face_0035.jpg      emp018"
      ]
     },
     "execution_count": 45,
     "metadata": {},
     "output_type": "execute_result"
    }
   ],
   "source": [
    "submission = pd.DataFrame(columns=[\"filename\", \"employee_id\"])\n",
    "submission[\"filename\"] = test_data['filenames']\n",
    "submission[\"employee_id\"] = le.classes_[ridge_preds]\n",
    "\n",
    "submission.head(15)"
   ]
  },
  {
   "cell_type": "code",
   "execution_count": 46,
   "id": "e18a6d12",
   "metadata": {},
   "outputs": [],
   "source": [
    "submission.to_csv(\"submission.csv\", index=False)"
   ]
  },
  {
   "cell_type": "code",
   "execution_count": null,
   "id": "9b61740b",
   "metadata": {},
   "outputs": [],
   "source": []
  }
 ],
 "metadata": {
  "kernelspec": {
   "display_name": "DataMind",
   "language": "python",
   "name": "python3"
  },
  "language_info": {
   "codemirror_mode": {
    "name": "ipython",
    "version": 3
   },
   "file_extension": ".py",
   "mimetype": "text/x-python",
   "name": "python",
   "nbconvert_exporter": "python",
   "pygments_lexer": "ipython3",
   "version": "3.10.18"
  }
 },
 "nbformat": 4,
 "nbformat_minor": 5
}
